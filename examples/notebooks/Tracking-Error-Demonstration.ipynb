{
 "cells": [
  {
   "cell_type": "markdown",
   "metadata": {},
   "source": [
    "# Tracking Errors\n",
    "\n",
    "This will display the tracking errors for both the RA and Dec axis. Tracking errors are determined through the center of the image and do not take into account rotation."
   ]
  },
  {
   "cell_type": "code",
   "execution_count": 1,
   "metadata": {
    "collapsed": false
   },
   "outputs": [],
   "source": [
    "from glob import glob\n",
    "import os\n",
    "\n",
    "import numpy as np\n",
    "\n",
    "from astropy import units as u\n",
    "from astropy.coordinates import SkyCoord\n",
    "from astropy.io import fits\n",
    "from astropy import modeling\n",
    "from astropy.stats import sigma_clip\n",
    "from scipy.optimize import leastsq\n",
    "\n",
    "from matplotlib import pyplot as plt\n",
    "import pandas\n",
    "from mpl_toolkits.mplot3d import Axes3D\n",
    "from matplotlib import rcParams\n",
    "\n",
    "plt.style.use('bmh')\n",
    "\n",
    "from pocs.utils import images as img_utils\n",
    "from pocs.utils.jupyter import widgets\n",
    "from piaa import utils\n",
    "\n",
    "%matplotlib inline"
   ]
  },
  {
   "cell_type": "markdown",
   "metadata": {},
   "source": [
    "## Gather Images"
   ]
  },
  {
   "cell_type": "code",
   "execution_count": 2,
   "metadata": {
    "collapsed": false
   },
   "outputs": [
    {
     "name": "stdout",
     "output_type": "stream",
     "text": [
      "Number of files: 45\n"
     ]
    }
   ],
   "source": [
    "base_dir = '/var/panoptes/images/fields/'\n",
    "image_dir = 'HatP27/14d3bd/20170420T073649/'\n",
    "\n",
    "seq_files = glob('{}/{}/2*.fits'.format(base_dir, image_dir), recursive=True)\n",
    "seq_files.sort()\n",
    "print(\"Number of files: {}\".format(len(seq_files)))"
   ]
  },
  {
   "cell_type": "markdown",
   "metadata": {},
   "source": [
    "## Collect WCS info"
   ]
  },
  {
   "cell_type": "code",
   "execution_count": 3,
   "metadata": {
    "collapsed": false
   },
   "outputs": [],
   "source": [
    "wcsinfo_list = {}\n",
    "\n",
    "for f in seq_files:\n",
    "    head, tail = os.path.split(f)\n",
    "    if head in wcsinfo_list:\n",
    "        wcsinfo_list[head].append(img_utils.get_wcsinfo(f))\n",
    "    else:\n",
    "        wcsinfo_list[head] = [img_utils.get_wcsinfo(f)]"
   ]
  },
  {
   "cell_type": "code",
   "execution_count": 4,
   "metadata": {
    "collapsed": false
   },
   "outputs": [
    {
     "name": "stdout",
     "output_type": "stream",
     "text": [
      "/var/panoptes/images/fields//HatP27/14d3bd/20170420T073649\n"
     ]
    }
   ],
   "source": [
    "ra = {}\n",
    "d_ra = {}\n",
    "ha = {}\n",
    "d_dec = {}\n",
    "t = {}\n",
    "dt = {}\n",
    "rate ={}\n",
    "dec = {}\n",
    "\n",
    "for item, wcsinfo in wcsinfo_list.items():\n",
    "    print(item)\n",
    "    try:\n",
    "        ra[item] = np.array([(info['ra_center'].to(u.arcsec)).value for info in wcsinfo])\n",
    "        d_ra[item] = np.array([((info['ra_center'] - wcsinfo[0]['ra_center']).to(u.arcsec)).value for info in wcsinfo])\n",
    "        d_dec[item] = np.array([((info['dec_center'] - wcsinfo[0]['dec_center']).to(u.arcsec)).value for info in wcsinfo])\n",
    "        dec[item] = np.array([(info['dec_center'].to(u.arcsec)).value for info in wcsinfo])\n",
    "    except KeyError:\n",
    "        next\n",
    "    \n",
    "    try:\n",
    "        rate[item] = np.array([fits.getval(info['wcs_file'], 'RA-RATE') for info in wcsinfo])\n",
    "    except KeyError:\n",
    "        pass\n",
    "    ha[item] = np.array([fits.getval(info['wcs_file'], 'HA-MNT') for info in wcsinfo])\n",
    "    t[item] = pandas.to_datetime([fits.getheader(info['wcs_file'])['DATE-OBS'] for info in wcsinfo])\n",
    "    dt[item] = np.array([((t1-t[item][0]).seconds) / 60 for t1 in t[item]])"
   ]
  },
  {
   "cell_type": "markdown",
   "metadata": {},
   "source": [
    "## Plotting Options"
   ]
  },
  {
   "cell_type": "code",
   "execution_count": 5,
   "metadata": {
    "collapsed": false
   },
   "outputs": [],
   "source": [
    "color = {\n",
    "    1.0: 'r',\n",
    "    0.99: 'b',\n",
    "    1.01: 'g',\n",
    "}\n",
    "\n",
    "marker = {\n",
    "    'Wasp35': 'x',\n",
    "    'Wasp36': 's',\n",
    "    'Wasp104': 'D',\n",
    "    'HatP20': '8',\n",
    "    'HatP12': '8',    \n",
    "    'Epic211089792': 'o',\n",
    "    'Kepler1100': 'x',\n",
    "    'Kic8462852': 'x',    \n",
    "    'Tres3': 'x'\n",
    "}\n",
    "\n",
    "pixscale = 10.309 * (u.arcsec / u.pixel)"
   ]
  },
  {
   "cell_type": "markdown",
   "metadata": {},
   "source": [
    "## Set up fitting functions"
   ]
  },
  {
   "cell_type": "code",
   "execution_count": 6,
   "metadata": {
    "collapsed": false
   },
   "outputs": [],
   "source": [
    "linear = modeling.functional_models.Linear1D(slope=-1)\n",
    "poly = modeling.polynomial.Polynomial1D(degree=2)\n",
    "fit = modeling.fitting.LinearLSQFitter() #LevMarLSQFitter()"
   ]
  },
  {
   "cell_type": "code",
   "execution_count": 7,
   "metadata": {
    "collapsed": true
   },
   "outputs": [],
   "source": [
    "ra_models = dict()\n",
    "dec_models = dict()"
   ]
  },
  {
   "cell_type": "markdown",
   "metadata": {},
   "source": [
    "## Plot the tracking"
   ]
  },
  {
   "cell_type": "code",
   "execution_count": 8,
   "metadata": {
    "collapsed": false
   },
   "outputs": [
    {
     "data": {
      "image/png": "[encoded data removed]",
      "text/plain": [
       "<matplotlib.figure.Figure at 0x7f380744ab70>"
      ]
     },
     "metadata": {},
     "output_type": "display_data"
    }
   ],
   "source": [
    "fig = plt.figure(figsize=(8,5))\n",
    "ax1 = fig.add_subplot(211)\n",
    "ax2 = fig.add_subplot(212)\n",
    "\n",
    "min_ha = 100\n",
    "max_ha = -100\n",
    "\n",
    "fitted_model = None\n",
    "fitted_model2 = None\n",
    "\n",
    "for item in sorted(list(d_ra.keys())):\n",
    "           \n",
    "    label = item.replace('/14d3bd/', ' ').replace(base_dir + '/', '')\n",
    "        \n",
    "    r = round(rate[item][0], 2)\n",
    "    \n",
    "    x0 = ha[item][0:-1]\n",
    "    x1 = dt[item][0:-1]\n",
    "    x0 = x1\n",
    "    \n",
    "    y0 = d_ra[item][0:-1]\n",
    "    mark = marker.get(item.split('/')[0], 'x')\n",
    "    ax1.plot(x0, y0, \n",
    "             label='{:.02f}x {}'.format(r, label), \n",
    "             alpha=0.5, marker=mark, ms=5, color=color[r])\n",
    "        \n",
    "    # Fit\n",
    "    fitted_model = fit(poly, x0, y0)\n",
    "    ra_models[item] = fitted_model\n",
    "#     ax1.plot(x0, fitted_model(x0), 'b')\n",
    "#     ax1.plot(x0, d_ra[item][0:-1] - fitted_model(x0), 'g')\n",
    "\n",
    "    # Dec\n",
    "    y1 = d_dec[item][0:-1]\n",
    "    ax2.plot(x0, y1, \n",
    "             label='{:.02f}x {}'.format(r, label), \n",
    "             alpha=0.5, marker=mark, ms=5, color=color[r])    \n",
    "    \n",
    "    # Fit\n",
    "#     if fitted_model2 is None:\n",
    "    fitted_model2 = fit(poly, x0, y1)\n",
    "    dec_models[item] = fitted_model2\n",
    "\n",
    "#     ax2.plot(x0, fitted_model2(x0), 'b')    \n",
    "#     ax2.plot(x0, y1 - fitted_model2(x0), 'g')\n",
    "    \n",
    "\n",
    "ax1.set_xlabel(\"$\\Delta$t [minutes]\")\n",
    "ax1.set_ylabel('$\\Delta$ RA [arcsec]')\n",
    "# ax1.tick_params(labelsize=17)\n",
    "ax1.set_ylim(-100,100)\n",
    "ax1.set_title(\"RA Drift of Center Coordinates\", fontsize=10)\n",
    "\n",
    "ax2.set_xlabel(\"$\\Delta$t [minutes]\")\n",
    "ax2.set_ylabel('$\\Delta$ Dec [arcsec]')\n",
    "# ax2.tick_params(labelsize=17)\n",
    "ax2.set_ylim(-100,100)\n",
    "ax2.set_title(\"Dec Drift of Center Coordinates\", fontsize=10)\n",
    "\n",
    "# Pixel labels\n",
    "ax3 = ax1.twinx()\n",
    "ax3.set_ylabel('$\\Delta$ pixels')\n",
    "# ax3.tick_params(labelsize=16)\n",
    "arcs = ax1.get_yticks()\n",
    "ax3.set_ylim(arcs[0] / 10.31, arcs[-1] / 10.31)\n",
    "ax3.grid(False)\n",
    "\n",
    "# Pixel labels\n",
    "ax3 = ax2.twinx()\n",
    "ax3.set_ylabel('$\\Delta$ pixels')\n",
    "# ax3.tick_params(labelsize=16)\n",
    "arcs = ax2.get_yticks()\n",
    "ax3.set_ylim(arcs[0] / 10.31, arcs[-1] / 10.31)\n",
    "ax3.grid(False)\n",
    "\n",
    "# Adjust arcseconds to look prettier\n",
    "# ax1.set_yticks([-50,0,50])\n",
    "# ax2.set_yticks([-50,0,50])\n",
    "\n",
    "ax1.legend()\n",
    "ax2.legend()\n",
    "\n",
    "# plt.tight_layout()\n",
    "# plt.subplots_adjust(top=.91)\n",
    "plt.suptitle('Tracking Error with Closed-Loop Correction')\n",
    "plt.savefig('tracking-errors.png', dpi=300)"
   ]
  }
 ],
 "metadata": {
  "anaconda-cloud": {},
  "kernelspec": {
   "display_name": "Python [conda root]",
   "language": "python",
   "name": "conda-root-py"
  },
  "language_info": {
   "codemirror_mode": {
    "name": "ipython",
    "version": 3
   },
   "file_extension": ".py",
   "mimetype": "text/x-python",
   "name": "python",
   "nbconvert_exporter": "python",
   "pygments_lexer": "ipython3",
   "version": "3.5.2"
  }
 },
 "nbformat": 4,
 "nbformat_minor": 1
}
