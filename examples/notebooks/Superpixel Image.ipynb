{
 "cells": [
  {
   "cell_type": "code",
   "execution_count": 1,
   "metadata": {
    "collapsed": false
   },
   "outputs": [
    {
     "data": {
      "image/png": "[encoded data removed]",
      "text/plain": [
       "<matplotlib.figure.Figure at 0x7f335cd89630>"
      ]
     },
     "metadata": {},
     "output_type": "display_data"
    }
   ],
   "source": [
    "import numpy as np\n",
    "from matplotlib import pyplot as plt\n",
    "from matplotlib import patches\n",
    "\n",
    "from piaa import utils\n",
    "\n",
    "%matplotlib inline\n",
    "\n",
    "superpixel = np.array([[1, 1], [1, 1]])\n",
    "\n",
    "fig, (ax2) = plt.subplots(1)\n",
    "fig.set_size_inches(9,6)\n",
    "\n",
    "# major ticks every 2, minor ticks every 1\n",
    "x_major_ticks = np.arange(-0.5, 1.5, 2)\n",
    "x_minor_ticks = np.arange(-0.5, 1.5, 1)\n",
    "\n",
    "y_major_ticks = np.arange(-0.5, 1.5, 2)\n",
    "y_minor_ticks = np.arange(-0.5, 1.5, 1)\n",
    "\n",
    "ax2.text(x=0.25, y=0.75, ha='center', va='center', s='R', fontsize=24, alpha=0.75, transform=ax2.transAxes)\n",
    "ax2.text(x=0.75, y=0.75, ha='center', va='center', s='G1', fontsize=24, alpha=0.75, transform=ax2.transAxes)\n",
    "ax2.text(x=0.25, y=0.25, ha='center', va='center', s='G2', fontsize=24, alpha=0.75, transform=ax2.transAxes)\n",
    "ax2.text(x=0.75, y=0.25, ha='center', va='center', s='B', fontsize=24, alpha=0.75, transform=ax2.transAxes)\n",
    "\n",
    "ax2.set_xticks(x_major_ticks)\n",
    "ax2.set_xticks(x_minor_ticks, minor=True)\n",
    "ax2.set_yticks(y_major_ticks)\n",
    "ax2.set_yticks(y_minor_ticks, minor=True)\n",
    "\n",
    "ax2.grid(which='major', color='k', lw=2, linestyle='-', alpha=0.75)\n",
    "ax2.grid(which='minor', color='k', linestyle='-', alpha=0.75)\n",
    "\n",
    "r_a_mask, g_a_mask, b_a_mask = utils.make_masks(superpixel)\n",
    "\n",
    "ax2.set_xlim(-0.5, 1.5)\n",
    "ax2.set_ylim(-0.5, 1.5)\n",
    "ax2.set_xticklabels([])\n",
    "ax2.set_yticklabels([])\n",
    "ax2.imshow(np.ma.array(np.ones((2, 2)), mask=~r_a_mask), cmap='Reds', vmin=0, vmax=2., )\n",
    "ax2.imshow(np.ma.array(np.ones((2, 2)), mask=~g_a_mask), cmap='Greens', vmin=0, vmax=2., )\n",
    "ax2.imshow(np.ma.array(np.ones((2, 2)), mask=~b_a_mask), cmap='Blues', vmin=0, vmax=2., )\n",
    "ax2.set_title(\"RGGB Superpixel\", fontsize=16)\n",
    "\n",
    "fig.tight_layout()\n",
    "fig.savefig('superpixel.png', dpi=300)"
   ]
  }
 ],
 "metadata": {
  "kernelspec": {
   "display_name": "Python [conda root]",
   "language": "python",
   "name": "conda-root-py"
  },
  "language_info": {
   "codemirror_mode": {
    "name": "ipython",
    "version": 3
   },
   "file_extension": ".py",
   "mimetype": "text/x-python",
   "name": "python",
   "nbconvert_exporter": "python",
   "pygments_lexer": "ipython3",
   "version": "3.5.2"
  }
 },
 "nbformat": 4,
 "nbformat_minor": 2
}
