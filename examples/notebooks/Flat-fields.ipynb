{
 "cells": [
  {
   "cell_type": "code",
   "execution_count": 1,
   "metadata": {},
   "outputs": [],
   "source": [
    "%load_ext autotime"
   ]
  },
  {
   "cell_type": "code",
   "execution_count": 2,
   "metadata": {},
   "outputs": [
    {
     "name": "stdout",
     "output_type": "stream",
     "text": [
      "time: 1.37 s\n"
     ]
    },
    {
     "name": "stderr",
     "output_type": "stream",
     "text": [
      "/home/wtgee/anaconda3/envs/panoptes/lib/python3.6/site-packages/psycopg2/__init__.py:144: UserWarning: The psycopg2 wheel package will be renamed from release 2.8; in order to keep installing from binary please use \"pip install psycopg2-binary\" instead. For details see: <http://initd.org/psycopg/docs/install.html#binary-install-from-pypi>.\n",
      "  \"\"\")\n"
     ]
    }
   ],
   "source": [
    "import pandas as pd\n",
    "import numpy as np\n",
    "\n",
    "from glob import glob\n",
    "from astropy.io import fits\n",
    "from astropy.stats import sigma_clipped_stats, sigma_clip\n",
    "from astropy.nddata import Cutout2D\n",
    "\n",
    "from matplotlib import pyplot as plt\n",
    "from matplotlib.backends.backend_agg import FigureCanvasAgg as FigureCanvas\n",
    "from matplotlib.figure import Figure\n",
    "from mpl_toolkits.axes_grid1 import make_axes_locatable\n",
    "\n",
    "from scipy import fftpack\n",
    "from matplotlib.colors import LogNorm\n",
    "\n",
    "from piaa.utils import helpers"
   ]
  },
  {
   "cell_type": "code",
   "execution_count": 3,
   "metadata": {},
   "outputs": [
    {
     "name": "stdout",
     "output_type": "stream",
     "text": [
      "time: 330 ms\n"
     ]
    }
   ],
   "source": [
    "rgb_masks = np.load('/var/panoptes/rgb_masks.npz')\n",
    "r_mask = rgb_masks['r']\n",
    "g_mask = rgb_masks['g']\n",
    "c_mask = rgb_masks['c']\n",
    "b_mask = rgb_masks['b']"
   ]
  },
  {
   "cell_type": "markdown",
   "metadata": {},
   "source": [
    "## Make Master Flat"
   ]
  },
  {
   "cell_type": "code",
   "execution_count": 4,
   "metadata": {},
   "outputs": [
    {
     "name": "stdout",
     "output_type": "stream",
     "text": [
      "time: 2.66 ms\n"
     ]
    }
   ],
   "source": [
    "flat_files = sorted(glob('/var/panoptes/images/flats/14d3bd/**/*.fits.fz'))"
   ]
  },
  {
   "cell_type": "code",
   "execution_count": 5,
   "metadata": {},
   "outputs": [
    {
     "data": {
      "text/plain": [
       "17"
      ]
     },
     "execution_count": 5,
     "metadata": {},
     "output_type": "execute_result"
    },
    {
     "name": "stdout",
     "output_type": "stream",
     "text": [
      "time: 5.75 ms\n"
     ]
    }
   ],
   "source": [
    "len(flat_files)"
   ]
  },
  {
   "cell_type": "code",
   "execution_count": 6,
   "metadata": {},
   "outputs": [
    {
     "name": "stdout",
     "output_type": "stream",
     "text": [
      "time: 1.71 ms\n"
     ]
    }
   ],
   "source": [
    "bias = 2047\n",
    "min_level = 1000\n",
    "saturation_level = 11000\n",
    "desired_percentage = 0.5"
   ]
  },
  {
   "cell_type": "code",
   "execution_count": 7,
   "metadata": {},
   "outputs": [
    {
     "name": "stdout",
     "output_type": "stream",
     "text": [
      "Desired count:  6000.0\n",
      "time: 3.06 ms\n"
     ]
    }
   ],
   "source": [
    "desired_count = (saturation_level + min_level) * desired_percentage\n",
    "print(\"Desired count: \", desired_count)"
   ]
  },
  {
   "cell_type": "code",
   "execution_count": 8,
   "metadata": {},
   "outputs": [
    {
     "name": "stdout",
     "output_type": "stream",
     "text": [
      "time: 2.46 ms\n"
     ]
    }
   ],
   "source": [
    "center_position = (int(3476/2), int(5208/2))"
   ]
  },
  {
   "cell_type": "code",
   "execution_count": 9,
   "metadata": {},
   "outputs": [
    {
     "name": "stdout",
     "output_type": "stream",
     "text": [
      "time: 13 ms\n"
     ]
    }
   ],
   "source": [
    "r_region = Cutout2D(r_mask, center_position, 1000).data\n",
    "g_region = Cutout2D(g_mask, center_position, 1000).data\n",
    "c_region = Cutout2D(c_mask, center_position, 1000).data\n",
    "b_region = Cutout2D(b_mask, center_position, 1000).data"
   ]
  },
  {
   "cell_type": "code",
   "execution_count": 10,
   "metadata": {},
   "outputs": [
    {
     "name": "stdout",
     "output_type": "stream",
     "text": [
      "time: 2.39 ms\n"
     ]
    }
   ],
   "source": [
    "enough_counts_fractional_error = 0.0125\n",
    "fraction_saturated_pixels_limit = 0.05"
   ]
  },
  {
   "cell_type": "code",
   "execution_count": 11,
   "metadata": {},
   "outputs": [
    {
     "name": "stdout",
     "output_type": "stream",
     "text": [
      "time: 12.7 ms\n"
     ]
    }
   ],
   "source": [
    "def inv_median_center(data, stats_region=0.3, xaxis_number=1, yaxis_number=0):\n",
    "    \"\"\"\n",
    "    Compute 1/median for scaling the flat field data using only a limited central region\n",
    "    specified by stats_region parameter.\n",
    "    \"\"\"\n",
    "\n",
    "    try:\n",
    "        h = data.shape[0]\n",
    "        w = data.shape[1]\n",
    "    except IndexError:\n",
    "        h = w = int(np.sqrt(data.shape[0]))\n",
    "        data = data.reshape(h, w)\n",
    "        \n",
    "    center_xy = (int(h/2), int(w/2))\n",
    "    size = (w*stats_region, h*stats_region)\n",
    "    \n",
    "    d0 = Cutout2D(data, center_xy, size)\n",
    "\n",
    "    return 1. / np.median(d0.data)"
   ]
  },
  {
   "cell_type": "code",
   "execution_count": 12,
   "metadata": {},
   "outputs": [
    {
     "name": "stdout",
     "output_type": "stream",
     "text": [
      "Using Flat:  3.90s μ=6290.16 σ=2710.15\n"
     ]
    },
    {
     "name": "stderr",
     "output_type": "stream",
     "text": [
      "/home/wtgee/anaconda3/envs/panoptes/lib/python3.6/site-packages/numpy/core/fromnumeric.py:664: UserWarning: Warning: 'partition' will ignore the 'mask' of the MaskedArray.\n",
      "  a.partition(kth, axis=axis, kind=kind, order=order)\n"
     ]
    },
    {
     "name": "stdout",
     "output_type": "stream",
     "text": [
      "Using Flat:  4.90s μ=6379.79 σ=2755.74\n",
      "Using Flat:  5.90s μ=6166.67 σ=2670.32\n",
      "Using Flat:  8.90s μ=6212.23 σ=2702.51\n",
      "Using Flat: 10.90s μ=5980.84 σ=2610.34\n",
      "Using Flat: 13.90s μ=5963.74 σ=2611.08\n",
      "Using Flat: 17.90s μ=5954.41 σ=2614.54\n",
      "Using Flat: 23.90s μ=6096.22 σ=2685.11\n",
      "Using Flat: 31.90s μ=6129.25 σ=2709.63\n",
      "Using Flat: 42.90s μ=6096.82 σ=2706.34\n",
      "time: 9.65 s\n"
     ]
    }
   ],
   "source": [
    "flat_data = None\n",
    "\n",
    "num_flats = 0\n",
    "\n",
    "master_flat_data = list()\n",
    "master_flat_weights = list()\n",
    "flat_fn = list()\n",
    "exp_times = list()\n",
    "\n",
    "for f in flat_files:\n",
    "    with fits.open(f) as hdul:\n",
    "#         print()\n",
    "        if f.endswith('.fits'):\n",
    "            hdu = hdul[0]\n",
    "        elif f.endswith('.fz'):\n",
    "            hdu = hdul[1]\n",
    "\n",
    "        exp_time = float(hdu.header['EXPTIME'])\n",
    "        # Skip flats under 3 seconds (kind of empirical)\n",
    "        if exp_time < 3:\n",
    "            continue            \n",
    "            \n",
    "        # Get data and remove bias\n",
    "        d0 = hdu.data - bias\n",
    "        \n",
    "        # Get center region\n",
    "        c0 = Cutout2D(d0, center_position, 1000)\n",
    "        \n",
    "        mean, median, std = sigma_clipped_stats(c0.data)\n",
    "\n",
    "        median_counts = np.median(c0.data)\n",
    "        frac_saturated = np.sum(c0.data >= saturation_level) / (c0.data.shape[1] * c0.data.shape[0])\n",
    "\n",
    "#         print(\"Median:   \", median_counts)\n",
    "#         print(\"FEC        {:.02%}\".format(np.sqrt(median_counts) / median_counts))\n",
    "#         print(\"Saturated: {:.0%}\".format(frac_saturated))\n",
    "        \n",
    "        # Figure out if within acceptables counts\n",
    "        if (np.sqrt(median_counts) / median_counts < enough_counts_fractional_error \n",
    "            and frac_saturated < fraction_saturated_pixels_limit):\n",
    "            \n",
    "            flat_fn.append(f)\n",
    "            exp_times.append(exp_time)\n",
    "\n",
    "            print(\"Using Flat: {:5.02f}s μ={:.02f} σ={:.02f}\".format(exp_time, mean, std))\n",
    "            \n",
    "            g_data = np.ma.array(d0, mask=np.logical_and(~g_mask, ~c_mask))\n",
    "            master_flat_weights.append(inv_median_center(g_data))\n",
    "            master_flat_data.append(d0)"
   ]
  },
  {
   "cell_type": "code",
   "execution_count": 13,
   "metadata": {},
   "outputs": [
    {
     "data": {
      "text/plain": [
       "'Good flats: 10'"
      ]
     },
     "execution_count": 13,
     "metadata": {},
     "output_type": "execute_result"
    },
    {
     "name": "stdout",
     "output_type": "stream",
     "text": [
      "time: 2.58 ms\n"
     ]
    }
   ],
   "source": [
    "\"Good flats: {}\".format(len(master_flat_data))"
   ]
  },
  {
   "cell_type": "code",
   "execution_count": 14,
   "metadata": {},
   "outputs": [
    {
     "name": "stdout",
     "output_type": "stream",
     "text": [
      "time: 6.61 ms\n"
     ]
    }
   ],
   "source": [
    "flat_data_file = '/var/panoptes/images/pan001-master_flat_data.npz'"
   ]
  },
  {
   "cell_type": "code",
   "execution_count": 16,
   "metadata": {},
   "outputs": [
    {
     "name": "stdout",
     "output_type": "stream",
     "text": [
      "time: 38.9 s\n"
     ]
    }
   ],
   "source": [
    "# Save the file\n",
    "np.savez_compressed(flat_data_file, *master_flat_data)"
   ]
  },
  {
   "cell_type": "code",
   "execution_count": 17,
   "metadata": {},
   "outputs": [
    {
     "name": "stdout",
     "output_type": "stream",
     "text": [
      "-rw-r--r-- 1 wtgee wtgee 280M Sep  4 20:03 /var/panoptes/images/pan001-master_flat_data.npz\n",
      "time: 147 ms\n"
     ]
    }
   ],
   "source": [
    "ls -lh $flat_data_file"
   ]
  },
  {
   "cell_type": "code",
   "execution_count": 11,
   "metadata": {},
   "outputs": [
    {
     "name": "stdout",
     "output_type": "stream",
     "text": [
      "time: 7.35 ms\n"
     ]
    }
   ],
   "source": [
    "# Or load the file\n",
    "master_flat_npz = np.load(flat_data_file)"
   ]
  },
  {
   "cell_type": "code",
   "execution_count": 12,
   "metadata": {},
   "outputs": [
    {
     "name": "stdout",
     "output_type": "stream",
     "text": [
      "time: 11 s\n"
     ]
    }
   ],
   "source": [
    "master_flat_data = [master_flat_npz[f] for f in master_flat_npz.files]"
   ]
  },
  {
   "cell_type": "markdown",
   "metadata": {},
   "source": [
    "#### Gain\n",
    "\n",
    "Do a simple gain check"
   ]
  },
  {
   "cell_type": "code",
   "execution_count": 34,
   "metadata": {},
   "outputs": [
    {
     "name": "stdout",
     "output_type": "stream",
     "text": [
      "Gain is 1.49 e-/ADU\n",
      "time: 12.9 s\n"
     ]
    }
   ],
   "source": [
    "# Quick gain \n",
    "flat0 = sigma_clip(master_flat_data[0].astype(np.float), iters=2)\n",
    "flat1 = sigma_clip(master_flat_data[1].astype(np.float), iters=2)\n",
    "\n",
    "gain = (flat0 + flat1).mean() / (flat0 - flat1).std()**2\n",
    "print(\"Gain is {:.02f} e-/ADU\".format(gain))"
   ]
  },
  {
   "cell_type": "markdown",
   "metadata": {},
   "source": [
    "#### Combine flats"
   ]
  },
  {
   "cell_type": "code",
   "execution_count": 19,
   "metadata": {},
   "outputs": [
    {
     "name": "stdout",
     "output_type": "stream",
     "text": [
      "time: 2.46 s\n"
     ]
    }
   ],
   "source": [
    "# Combine all the flats\n",
    "median_flat = np.median(master_flat_data, axis=0)"
   ]
  },
  {
   "cell_type": "code",
   "execution_count": 20,
   "metadata": {},
   "outputs": [
    {
     "data": {
      "text/plain": [
       "(3476, 5208)"
      ]
     },
     "execution_count": 20,
     "metadata": {},
     "output_type": "execute_result"
    },
    {
     "name": "stdout",
     "output_type": "stream",
     "text": [
      "time: 2.73 ms\n"
     ]
    }
   ],
   "source": [
    "median_flat.shape"
   ]
  },
  {
   "cell_type": "code",
   "execution_count": 15,
   "metadata": {},
   "outputs": [
    {
     "data": {
      "image/png": "[encoded data removed]",
      "text/plain": [
       "<Figure size 432x288 with 1 Axes>"
      ]
     },
     "metadata": {
      "needs_background": "light"
     },
     "output_type": "display_data"
    },
    {
     "name": "stdout",
     "output_type": "stream",
     "text": [
      "time: 457 ms\n"
     ]
    }
   ],
   "source": [
    "# Histogram of pixels\n",
    "n, bins, patches = plt.hist(median_flat.flatten())"
   ]
  },
  {
   "cell_type": "markdown",
   "metadata": {},
   "source": [
    "### Plot flat fields and FFT"
   ]
  },
  {
   "cell_type": "code",
   "execution_count": 14,
   "metadata": {},
   "outputs": [
    {
     "name": "stdout",
     "output_type": "stream",
     "text": [
      "time: 17.8 s\n"
     ]
    }
   ],
   "source": [
    "fig = Figure()\n",
    "fft_fig = Figure()\n",
    "FigureCanvas(fig)\n",
    "FigureCanvas(fft_fig)\n",
    "\n",
    "ax = fig.add_subplot(111)\n",
    "ax2 = fft_fig.add_subplot(111)\n",
    "\n",
    "im = ax.imshow(median_flat)\n",
    "ax.set_title('Master Flat')\n",
    "\n",
    "divider = make_axes_locatable(ax)\n",
    "cax = divider.append_axes(\"right\", size=\"5%\", pad=0.05)\n",
    "\n",
    "fig.colorbar(im, cax=cax)\n",
    "\n",
    "# FFT\n",
    "f0 = fftpack.fft2(median_flat)\n",
    "ax2.imshow(np.abs(f0), cmap='Greys', norm=LogNorm())\n",
    "ax2.set_title('Master Flat FFT')\n",
    "\n",
    "ax.set_xticklabels([])\n",
    "ax.set_yticklabels([])\n",
    "ax2.set_xticklabels([])\n",
    "ax2.set_yticklabels([])\n",
    "\n",
    "fig.tight_layout()\n",
    "fig.set_size_inches(fig.get_size_inches() * 4)\n",
    "fig.savefig('/var/panoptes/images/pan001-master-flat-01.png', transparent=False)\n",
    "\n",
    "fft_fig.tight_layout()\n",
    "fft_fig.set_size_inches(fig.get_size_inches() * 4)\n",
    "fft_fig.savefig('/var/panoptes/images/pan001-master-flat-01-fft.png', transparent=False)"
   ]
  },
  {
   "cell_type": "code",
   "execution_count": 15,
   "metadata": {},
   "outputs": [
    {
     "name": "stdout",
     "output_type": "stream",
     "text": [
      "time: 1.22 ms\n"
     ]
    }
   ],
   "source": [
    "flat_fits = '/var/panoptes/images/pan001-master-flat.fits'"
   ]
  },
  {
   "cell_type": "code",
   "execution_count": 16,
   "metadata": {},
   "outputs": [
    {
     "name": "stdout",
     "output_type": "stream",
     "text": [
      "time: 128 ms\n"
     ]
    }
   ],
   "source": [
    "hdu = fits.PrimaryHDU(median_flat.astype(np.float32))\n",
    "hdul = fits.HDUList([hdu])\n",
    "hdul.writeto(flat_fits, overwrite=True)"
   ]
  },
  {
   "cell_type": "markdown",
   "metadata": {},
   "source": [
    "## Examine Master Flat"
   ]
  },
  {
   "cell_type": "code",
   "execution_count": 4,
   "metadata": {},
   "outputs": [
    {
     "name": "stdout",
     "output_type": "stream",
     "text": [
      "time: 23.1 ms\n"
     ]
    }
   ],
   "source": [
    "# Load the master flat\n",
    "flat_map = fits.getdata('/var/panoptes/images/pan001-master-flat.fits')"
   ]
  },
  {
   "cell_type": "code",
   "execution_count": 5,
   "metadata": {},
   "outputs": [
    {
     "name": "stdout",
     "output_type": "stream",
     "text": [
      "time: 7.25 s\n"
     ]
    }
   ],
   "source": [
    "for color, mask in zip(['Reds', 'Greens', 'Greens2', 'Blues'], [r_mask, g_mask, c_mask, b_mask]):\n",
    "    fig = Figure()\n",
    "    fft_fig = Figure()\n",
    "    \n",
    "    FigureCanvas(fig)\n",
    "    FigureCanvas(fft_fig)\n",
    "    \n",
    "    ax = fig.add_subplot(111)\n",
    "    ax2 = fft_fig.add_subplot(111)\n",
    "\n",
    "    d0 = np.ma.array(flat_map, mask=~mask)\n",
    "\n",
    "    width = int(5208/2)    \n",
    "    height = int(3476/2)\n",
    "    \n",
    "    cm = color\n",
    "    if color is 'Greens2':\n",
    "        cm = 'Greens'\n",
    "    \n",
    "    d0 = d0.compressed().reshape(height, width)\n",
    "        \n",
    "    # Show the flat\n",
    "    im = ax.imshow(d0, cmap=cm)\n",
    "    ax.set_title(color)\n",
    "    \n",
    "    # Colorbar\n",
    "    divider = make_axes_locatable(ax)\n",
    "    cax = divider.append_axes(\"right\", size=\"5%\", pad=0.05)\n",
    "    fig.colorbar(im, cax=cax)\n",
    "    \n",
    "    # Show the FFT\n",
    "    f0 = fftpack.fft2(d0.astype(np.float))\n",
    "    \n",
    "    ax2.imshow(np.abs(f0), cmap='Greys_r', norm=LogNorm(vmin=5))\n",
    "    ax2.set_title('{} FFT'.format(color))\n",
    "\n",
    "    ax.set_xticklabels([])\n",
    "    ax.set_yticklabels([])\n",
    "    ax2.set_xticklabels([])\n",
    "    ax2.set_yticklabels([])    \n",
    "    \n",
    "    fig.tight_layout()\n",
    "    fft_fig.tight_layout()\n",
    "    \n",
    "    fig.set_size_inches(fig.get_size_inches() * 2)\n",
    "    fft_fig.set_size_inches(fft_fig.get_size_inches() * 2)\n",
    "    \n",
    "    fig.savefig('/var/panoptes/images/pan001-master-flat-channel-{}.png'.format(color))\n",
    "    fft_fig.savefig('/var/panoptes/images/pan001-master-flat-channel-{}-fft.png'.format(color))"
   ]
  },
  {
   "cell_type": "code",
   "execution_count": 6,
   "metadata": {},
   "outputs": [
    {
     "name": "stdout",
     "output_type": "stream",
     "text": [
      "time: 6.19 s\n"
     ]
    }
   ],
   "source": [
    "fig = Figure()\n",
    "fft_fig = Figure()\n",
    "\n",
    "FigureCanvas(fig)\n",
    "FigureCanvas(fft_fig)\n",
    "\n",
    "ax =  fig.add_subplot(111)\n",
    "ax2 =  fft_fig.add_subplot(111)\n",
    "\n",
    "# Show the flat\n",
    "im = ax.imshow(flat_map, cmap='Greys', norm=LogNorm())\n",
    "ax.set_title('Master Flat')\n",
    "\n",
    "# Colorbar\n",
    "divider = make_axes_locatable(ax)\n",
    "cax = divider.append_axes(\"right\", size=\"5%\", pad=0.05)\n",
    "fig.colorbar(im, cax=cax)\n",
    "\n",
    "# Show the FFT\n",
    "f0 = fftpack.fft2(flat_map.astype(np.float))\n",
    "\n",
    "ax2.imshow(np.abs(f0), cmap='Greys_r', norm=LogNorm(vmin=5))\n",
    "ax2.set_title('FFT')\n",
    "\n",
    "ax.set_xticklabels([])\n",
    "ax.set_yticklabels([])\n",
    "ax2.set_xticklabels([])\n",
    "ax2.set_yticklabels([])\n",
    "\n",
    "fig.tight_layout()\n",
    "fig.set_size_inches(fig.get_size_inches() * 2)\n",
    "fig.savefig('/var/panoptes/images/pan001-master-flat-02.png', transparent=False)\n",
    "\n",
    "fft_fig.tight_layout()\n",
    "fft_fig.set_size_inches(fig.get_size_inches() * 2)\n",
    "fft_fig.savefig('/var/panoptes/images/pan001-master-flat-02-fft.png', transparent=False)"
   ]
  },
  {
   "cell_type": "code",
   "execution_count": null,
   "metadata": {},
   "outputs": [],
   "source": []
  }
 ],
 "metadata": {
  "kernelspec": {
   "display_name": "Python 3",
   "language": "python",
   "name": "python3"
  },
  "language_info": {
   "codemirror_mode": {
    "name": "ipython",
    "version": 3
   },
   "file_extension": ".py",
   "mimetype": "text/x-python",
   "name": "python",
   "nbconvert_exporter": "python",
   "pygments_lexer": "ipython3",
   "version": "3.6.6"
  }
 },
 "nbformat": 4,
 "nbformat_minor": 2
}
