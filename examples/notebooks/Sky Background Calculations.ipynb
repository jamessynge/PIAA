{
 "cells": [
  {
   "cell_type": "code",
   "execution_count": 1,
   "metadata": {
    "collapsed": false
   },
   "outputs": [],
   "source": [
    "from matplotlib import pyplot as plt\n",
    "plt.style.use('bmh')\n",
    "%matplotlib inline\n",
    "\n",
    "import numpy as np\n",
    "from astropy import units as u\n",
    "from astropy.utils import console\n",
    "\n",
    "from piaa import observation\n",
    "from astropy.io import fits"
   ]
  },
  {
   "cell_type": "code",
   "execution_count": 2,
   "metadata": {
    "collapsed": true
   },
   "outputs": [],
   "source": [
    "dirs = {\n",
    "#     'Camera 01': '/var/panoptes/images/fields/Wasp104/14d3bd/20170331T102408/',\n",
    "#     'Camera 02': '/var/panoptes/images/fields/Wasp104/ee04d1/20170331T102408/',    \n",
    "    'Camera 01': '/var/panoptes/images/fields/HatP20/14d3bd/20170128T053449/',\n",
    "    'Camera 02': '/var/panoptes/images/fields/HatP20/ee04d1/20170128T053449/',        \n",
    "}"
   ]
  },
  {
   "cell_type": "code",
   "execution_count": 3,
   "metadata": {
    "collapsed": false
   },
   "outputs": [],
   "source": [
    "# Sensor properties\n",
    "gain = 1.696 * (u.electron / u.adu)\n",
    "\n",
    "readout_noise_e = 11.5 * (u.electron)\n",
    "readout_noise_adu = readout_noise_e / gain\n",
    "\n",
    "# We want photon noise >= readout noise (in electrons). That minimum is:\n",
    "photon_noise_equal_read_noise = ((readout_noise_e.value**2) * u.electron / gain)"
   ]
  },
  {
   "cell_type": "code",
   "execution_count": null,
   "metadata": {
    "collapsed": false
   },
   "outputs": [],
   "source": [
    "plt.figure(figsize=(15,12))\n",
    "\n",
    "moon_lookup = {\n",
    "    'Camera 01': '--',\n",
    "    'Camera 02': '-'\n",
    "}\n",
    "\n",
    "for moon, directory in dirs.items():\n",
    "    obs = observation.Observation(directory)\n",
    "\n",
    "    for frame_index in console.ProgressBar(range(len(obs.files) ), ipython_widget=True):\n",
    "        obs.get_frame_background(frame_index, summary=True)\n",
    "\n",
    "    background_data = np.array(obs.hdf5['background'])\n",
    "\n",
    "    plt.plot(background_data[:-1, 0, 0], 'r', ls=moon_lookup[moon], label='{} - R Channel'.format(moon))\n",
    "    plt.plot(background_data[:-1, 1, 0], 'g', ls=moon_lookup[moon], label='{} - G Channel'.format(moon))\n",
    "    plt.plot(background_data[:-1, 2, 0], 'b', ls=moon_lookup[moon], label='{} - B Channel'.format(moon))\n",
    "\n",
    "# Title, legend, labels\n",
    "plt.title(\"Median Background Levels - New Moon - ISO 100\", fontsize=24, y=1.07)\n",
    "plt.legend(fontsize=16)\n",
    "plt.xlabel('Frame', fontsize=20)\n",
    "plt.ylabel('Count [ADU]', fontsize=20)\n",
    "plt.xlim(0, len(obs.files) - 1)\n",
    "\n",
    "a = plt.gca()\n",
    "a.set_xticklabels([int(i) for i in a.get_xticks()], {'size': 16})\n",
    "a.set_yticklabels([int(i) for i in a.get_yticks()], {'size': 16})\n",
    "\n",
    "# Get airmasses and create second x-axis\n",
    "am = [obs.get_header_value(i, 'AIRMASS') for i in range(1, len(obs.files))]\n",
    "b = a.twiny()\n",
    "b.set_xlim(am[0], am[-1])\n",
    "b.set_xticklabels(b.get_xticks(), {'size': 16})\n",
    "b.grid(False)\n",
    "b.set_xlabel('Airmass', fontsize=20)\n",
    "\n",
    "plt.tight_layout()\n",
    "plt.savefig('/var/panoptes/plots/background_counts.png', dpi=300)"
   ]
  },
  {
   "cell_type": "code",
   "execution_count": 5,
   "metadata": {
    "collapsed": false
   },
   "outputs": [
    {
     "name": "stdout",
     "output_type": "stream",
     "text": [
      "Gain:       1.696 electron / adu\n",
      "RN:         11.50 electron\n",
      "RN:         6.78 adu\n",
      "RN = PN:    77.98 adu\n",
      "\n",
      "Exp time:   119.9 s\n",
      "ISO:        100\n",
      "Moon phase: 0.15\n",
      "\n",
      "R channel:\n",
      "\tMean of Median:      47.30\n",
      "\tMean of RMS Median:  9.85\n",
      "\tMedian per Pixel:    0.39 adu / s\n",
      "\tMedian per Pixel:    0.67 electron / s\n",
      "\n",
      "G channel:\n",
      "\tMean of Median:      79.10\n",
      "\tMean of RMS Median:  10.83\n",
      "\tMedian per Pixel:    0.66 adu / s\n",
      "\tMedian per Pixel:    1.12 electron / s\n",
      "\n",
      "B channel:\n",
      "\tMean of Median:      42.61\n",
      "\tMean of RMS Median:  9.81\n",
      "\tMedian per Pixel:    0.36 adu / s\n",
      "\tMedian per Pixel:    0.60 electron / s\n",
      "\n",
      "Minimum exposure time for photon-noise limited: 219.40 s\n"
     ]
    }
   ],
   "source": [
    "minimum_counts_per_pixsec = None\n",
    "\n",
    "rgb_lookup = {\n",
    "    'R': 0,\n",
    "    'G': 1,\n",
    "    'B': 2,\n",
    "}\n",
    "\n",
    "frame_index = 1\n",
    "\n",
    "print(\"Gain:       {}\".format(gain))\n",
    "print(\"RN:         {:.02f}\".format(readout_noise_e))\n",
    "print(\"RN:         {:.02f}\".format(readout_noise_adu))\n",
    "print(\"RN = PN:    {:.02f}\".format(photon_noise_equal_read_noise))\n",
    "print(\"\")\n",
    "\n",
    "exp_time = obs.get_header_value(frame_index, 'EXPTIME') * u.second\n",
    "print(\"Exp time:   {}\".format(exp_time))\n",
    "\n",
    "iso = obs.get_header_value(frame_index, 'ISO')\n",
    "print(\"ISO:        {}\".format(iso))\n",
    "\n",
    "moon_fraction = obs.get_header_value(frame_index, 'MOONFRAC')\n",
    "print(\"Moon phase: {:.02f}\".format(moon_fraction))\n",
    "print(\"\")\n",
    "\n",
    "for channel in ['R', 'G', 'B']:\n",
    "    print(\"{} channel:\".format(channel))\n",
    "    \n",
    "    mom = background_data[:, rgb_lookup[channel], 0].mean()\n",
    "    morms = background_data[:, rgb_lookup[channel], 1].mean()\n",
    "\n",
    "    print(\"\\tMean of Median:      {:.02f}\".format(mom))\n",
    "    print(\"\\tMean of RMS Median:  {:.02f}\".format(morms))\n",
    "    counts_per_pixsec = (mom / exp_time) * u.adu\n",
    "    if minimum_counts_per_pixsec is None or counts_per_pixsec < minimum_counts_per_pixsec:\n",
    "        minimum_counts_per_pixsec = counts_per_pixsec\n",
    "    print(\"\\tMedian per Pixel:    {:.02f}\".format(counts_per_pixsec))\n",
    "    print(\"\\tMedian per Pixel:    {:.02f}\".format(counts_per_pixsec * gain))\n",
    "    print(\"\")\n",
    "    \n",
    "# We want the minimum counts (given by the blue) to be greater than min_electrons. To do this, we need to expose for\n",
    "min_exp_time = photon_noise_equal_read_noise / (minimum_counts_per_pixsec)\n",
    "print(\"Minimum exposure time for photon-noise limited: {:.02f}\".format(min_exp_time))"
   ]
  },
  {
   "cell_type": "code",
   "execution_count": null,
   "metadata": {
    "collapsed": true
   },
   "outputs": [],
   "source": []
  }
 ],
 "metadata": {
  "kernelspec": {
   "display_name": "Python [conda root]",
   "language": "python",
   "name": "conda-root-py"
  },
  "language_info": {
   "codemirror_mode": {
    "name": "ipython",
    "version": 3
   },
   "file_extension": ".py",
   "mimetype": "text/x-python",
   "name": "python",
   "nbconvert_exporter": "python",
   "pygments_lexer": "ipython3",
   "version": "3.5.2"
  },
  "widgets": {
   "state": {
    "0d6dfb0ddcd547e0a43f9abf1bd89f37": {
     "views": [
      {
       "cell_index": 3
      }
     ]
    },
    "44a56850e7004bdfb33e42b3e868d9da": {
     "views": [
      {
       "cell_index": 3
      }
     ]
    },
    "73650475bff64618ad5e1e1108ebe41f": {
     "views": [
      {
       "cell_index": 3
      }
     ]
    },
    "8c670b7f2f6f4ccfa257fc276517918c": {
     "views": [
      {
       "cell_index": 3
      }
     ]
    },
    "9226ffd8650d4f2994c9085760298512": {
     "views": [
      {
       "cell_index": 3
      }
     ]
    },
    "e25bb4456cfb453592328887f4becc6f": {
     "views": [
      {
       "cell_index": 3
      }
     ]
    }
   },
   "version": "1.2.0"
  }
 },
 "nbformat": 4,
 "nbformat_minor": 2
}
