{
 "cells": [
  {
   "cell_type": "markdown",
   "metadata": {},
   "source": [
    "# Remove, Replace, Compare (RRC) Algorithm\n",
    "\n",
    "Adapted from [O. Guyon](http://www.naoj.org/staff/guyon/09allskysurvey.web/56photometry.web/content.html) by W. Gee"
   ]
  },
  {
   "cell_type": "markdown",
   "metadata": {},
   "source": [
    "An image sequence is a group of images taken by one camera corresponding to one observation. An observation is defined by mount slews such that there is no slewing of the mount between images in a sequence (by definition, a meridian flip to the same target signals the beginning of a new observation).\n",
    "\n",
    "For each image in the sequence, a postage stamp is created for each point source contained within the PANOPTES Image Catalog (PIC).\n",
    "\n",
    "One individual image can contain up to 100,000 postage stamps depending on the stellar density of the observed field. To test for a transit, the target postage stamp is compared to all other postage stamps within the field."
   ]
  },
  {
   "cell_type": "markdown",
   "metadata": {},
   "source": [
    "### Step 1: Choose Transit Parameters\n",
    "\n",
    "Parameters: _phase_, _period_, _duration_\n",
    "\n",
    "The purpose of the steps below is to test if the transit matching these parameters occured. The metric used is the transit depth, computed at the end of the steps."
   ]
  },
  {
   "cell_type": "markdown",
   "metadata": {},
   "source": [
    "### Step 2: Separate Postage Stamps\n",
    "\n",
    "Postage stamps in the sequence are separated into two groups:\n",
    "\n",
    "* **Group A**: All postage stamps that occur during time $t$ for which a transit depth is being tested.\n",
    "* **Group B**: All postage stamps outside time $t$."
   ]
  },
  {
   "cell_type": "markdown",
   "metadata": {},
   "source": [
    "### Step 3: Identify Reference PSFs\n",
    "\n",
    "Use all the postage stamps in Group B (outside transit time $t$) to identify PSF(s) in the field which best match the target PSF.\n",
    "\n",
    "The identification is done directly from the postage stamps (no photometry, no lightcurve) using the sum square difference between the target postage stamp and PSFs as a minimization criteria. \n",
    "\n",
    "For example, the following criteria may be used:"
   ]
  },
  {
   "cell_type": "markdown",
   "metadata": {},
   "source": [
    "$$ \n",
    "V_{(x_r,y_r)} = \\sum_{i=0}^{n-1}\n",
    "    {\\big[ \n",
    "        \\sum_{u=-w}^{w}{ \n",
    "            \\big[\n",
    "            \\sum_{v=-w}^{w}{\n",
    "            \\big( \n",
    "                B_i(x_t + u, y_t + v) - B_i(x_r + u, y_r + v)\n",
    "            \\big)^2 \n",
    "            \\big]\n",
    "        }}\n",
    "    \\big]} \n",
    "$$\n",
    "\n",
    "$$(1)$$"
   ]
  },
  {
   "cell_type": "markdown",
   "metadata": {},
   "source": [
    "where:\n",
    "* $i$ is the postage stamp index within set $B$\n",
    "* $n$ is the number of postage stamps in set $B$\n",
    "* $u$ is the horizontal pixel offset\n",
    "* $v$ is the vertical pixel offset\n",
    "* $w$ denotes half of the postage stamp width\n",
    "* $(x_r,y_r)$ is the location of the star within the reference postage stamp\n",
    "* $(x_t,y_t)$ is the location of the star within the target postage stamp, and\n",
    "* $B_i(x + u,y + v)$ is the pixel value for pixel $(x + u,y + v)$ in postage stamp $i$ within group $B$.\n",
    "\n",
    "This can be read as: for each postage stamp outside time $t$, find the (squared) difference between the sum of all the pixels in the target stamp and the sum of the pixels in the reference stamp. \n",
    "\n",
    "The value $V(x_r,y_r)$ then represents how well, within the group $B$ of postage stamps, the pixel values around pixel $(x_r,y_r)$ match the pixel values around pixel $(x_t,y_t)$ where the target star is located.\n",
    "\n",
    "We note that $V(x_t,y_t)=0$, and that a small value for $V(x_r,y_r)$ indicates that a star which behaves similarly to the target star is located on pixel $(x_r,y_r)$. Equation (1) may be refined to include flux scaling (allow for comparison of stars of difference brightnesses), and weighting factors that take into account noise properties (readout noise, photon noise) or other known limitations."
   ]
  },
  {
   "cell_type": "markdown",
   "metadata": {},
   "source": [
    "### Step 4: Construct Reference PSF\n",
    "\n",
    "The value(s) of $(x,y)$ for which $V(x,y)$ is smallest is(are) used to build this sequence. \n",
    "\n",
    "For example, if the smallest values of $V(x,y)$ (other than the trivial $x=x_t, y=y_t$ solution) are obtained for $(x,y)=(x_{\\rm{min}_1}, y_{\\rm{min}_1})$ and $(x,y)=(x_{\\rm{min}_2}, y_{\\rm{min}_2})$, then:\n",
    "\n",
    "$$\n",
    "    \\mathrm{RefPSF}_j(u,v) = \n",
    "        \\alpha \\; A_j(x_{\\rm{min}_1} + u,y_{\\rm{min}_1} + v) + \\beta \\; A_j(x_{\\rm{min}_2} + u,y_{\\rm{min}_2} + v)\n",
    "$$\n",
    "\n",
    "$$(2)$$\n",
    "\n",
    "where:\n",
    "\n",
    "* $\\alpha$ and $\\beta$ are adjusted to best match the photometry of the target and reference PSF outside transit (group $B$), and \n",
    "* $j$ is the postage stamp index within group $A$ (during transit).\n",
    "\n",
    "Note that in the reference PSF we are **removing** the values given by $(x_t, y_t)$ from the $A_j$ postage stamp and **replacing** them with them with combination of values given by $(x_{\\rm min}, y_{\\rm min})$."
   ]
  },
  {
   "cell_type": "markdown",
   "metadata": {},
   "source": [
    "### Step 5: Derive Estimated Transit Depth\n",
    "\n",
    "Derive the depth by **comparing** the target PSF to the reference PSF within the transit postage stamp set $A$.\n",
    "\n",
    "An estimate of the transit depth $a$ may be obtained by:\n",
    "\n",
    "$$\n",
    "(1+a) = \n",
    "    \\frac{\n",
    "        \\displaystyle\\sum_{j=0}^{m-1}\n",
    "            {\\big[ \n",
    "                \\sum_{u=-w}^{w}{ \n",
    "                    \\big[\n",
    "                    \\sum_{v=-w}^{w}{\n",
    "                        A_j(x_t + u, y_t + v)\n",
    "                    \\big]\n",
    "                }}\n",
    "            \\big]} \n",
    "    }{\n",
    "        \\displaystyle\\sum_{j=0}^{m-1}\n",
    "            {\\big[ \n",
    "                \\sum_{u=-w}^{w}{ \n",
    "                    \\big[\n",
    "                    \\sum_{v=-w}^{w}{\n",
    "                        \\mathrm{RefPSF}_j(u, v)\n",
    "                    \\big]\n",
    "                }}\n",
    "            \\big]} \n",
    "    }\n",
    "$$\n",
    "\n",
    "$$(3)$$\n",
    "\n",
    "Where $m$ is the number of images in group $A$. This equation may be improved by optimal weighting of pixel values."
   ]
  }
 ],
 "metadata": {
  "kernelspec": {
   "display_name": "Python [Root]",
   "language": "python",
   "name": "Python [Root]"
  },
  "language_info": {
   "codemirror_mode": {
    "name": "ipython",
    "version": 3
   },
   "file_extension": ".py",
   "mimetype": "text/x-python",
   "name": "python",
   "nbconvert_exporter": "python",
   "pygments_lexer": "ipython3",
   "version": "3.5.2"
  }
 },
 "nbformat": 4,
 "nbformat_minor": 0
}
