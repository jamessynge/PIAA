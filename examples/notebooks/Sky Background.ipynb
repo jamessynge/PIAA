{
 "cells": [
  {
   "cell_type": "code",
   "execution_count": 14,
   "metadata": {
    "collapsed": false
   },
   "outputs": [],
   "source": [
    "from matplotlib import pyplot as plt\n",
    "plt.style.use('bmh')\n",
    "%matplotlib inline\n",
    "\n",
    "import numpy as np\n",
    "from astropy import units as u\n",
    "from astropy.utils import console\n",
    "\n",
    "from piaa import observation\n",
    "from astropy.io import fits"
   ]
  },
  {
   "cell_type": "code",
   "execution_count": 24,
   "metadata": {
    "collapsed": true
   },
   "outputs": [],
   "source": [
    "dirs = {\n",
    "    'New Moon': '/var/panoptes/images/fields/HatP20/ee04d1/20170129T060339/',\n",
    "    'Full Moon': '/var/panoptes/images/fields/HatP20/ee04d1/20170131T053503/',\n",
    "}"
   ]
  },
  {
   "cell_type": "code",
   "execution_count": 3,
   "metadata": {
    "collapsed": true
   },
   "outputs": [],
   "source": [
    "plt.figure(figsize=(15,12))\n",
    "\n",
    "for moon, directory in dirs.items():\n",
    "\n",
    "    obs = observation.Observation(directory)\n",
    "\n",
    "    frame_index = 0\n",
    "\n",
    "    exp_time = obs.get_header_value(frame_index, 'EXPTIME') * u.second\n",
    "    print(\"Exposure time: {}\".format(exp_time))\n",
    "\n",
    "    iso = obs.get_header_value(frame_index, 'ISO')\n",
    "    print(\"ISO: {}\".format(iso))\n",
    "\n",
    "    gain = 2.0 * (u.electron / u.adu)\n",
    "    print(\"Gain: {}\".format(gain))\n",
    "\n",
    "    readout_noise_e = 11.5 * (u.electron)\n",
    "    readout_noise_adu = readout_noise_e / gain\n",
    "    print(\"Readout noise [e⁻]: {}\".format(readout_noise_e))\n",
    "    print(\"Readout noise [ADU]: {}\".format(readout_noise_adu))\n",
    "\n",
    "    # We want photon noise >= readout noise (in electrons). That minimum is:\n",
    "    photon_noise_equal_read_noise = readout_noise_adu * readout_noise_e.value\n",
    "    print(\"RN = PN: {}\".format(photon_noise_equal_read_noise))\n",
    "\n",
    "    moon_fraction = obs.get_header_value(frame_index, 'MOONFRAC')\n",
    "    print(\"Moon: {:.02f}\".format(moon_fraction))\n",
    "\n",
    "    for frame_index in console.ProgressBar(range(len(obs.files)), ipython_widget=True):\n",
    "        obs.get_frame_background(frame_index, summary=True)\n",
    "\n",
    "    background_data =np.array(obs.hdf5['background'])\n",
    "\n",
    "    plt.plot(background_data[:, 0, 0], 'r', label='R Channel')\n",
    "    plt.plot(background_data[:, 1, 0], 'g', label='G Channel')\n",
    "    plt.plot(background_data[:, 2, 0], 'b', label='B Channel')\n",
    "\n",
    "plt.title(\"Background Levels\")\n",
    "plt.legend()\n",
    "plt.xlabel('Frame')\n",
    "plt.ylabel('Count [ADU]')"
   ]
  },
  {
   "cell_type": "code",
   "execution_count": null,
   "metadata": {
    "collapsed": false
   },
   "outputs": [],
   "source": [
    "minimum_counts_per_pixsec = None\n",
    "for channel, data in zip(['R', 'G', 'B'], frame_back):\n",
    "    print(\"{} pixels:\".format(channel))\n",
    "    print(\"\\tBackground Median: {:.02f}\".format(data[0]))\n",
    "    print(\"\\tBackground RMS Median: {:.02f}\".format(data[1]))\n",
    "    counts_per_pixsec = (np.ma.median(data) / exp_time) * u.adu\n",
    "    if minimum_counts_per_pixsec is None or counts_per_pixsec < minimum_counts_per_pixsec:\n",
    "        minimum_counts_per_pixsec = counts_per_pixsec\n",
    "    print(\"\\tMedian Counts per Second per Pixel: {:.02f}\".format(counts_per_pixsec))\n",
    "    print(\"\\tMedian Electrons per Second per Pixel: {:.02f}\".format(counts_per_pixsec * gain))\n",
    "    print(\"\")"
   ]
  },
  {
   "cell_type": "code",
   "execution_count": null,
   "metadata": {
    "collapsed": false
   },
   "outputs": [],
   "source": [
    "# We want the minimum counts (given by the blue) to be greater than min_electrons. To do this, we need to expose for\n",
    "min_exp_time = photon_noise_equal_read_noise / (minimum_counts_per_pixsec)\n",
    "min_exp_time"
   ]
  }
 ],
 "metadata": {
  "kernelspec": {
   "display_name": "Python [conda root]",
   "language": "python",
   "name": "conda-root-py"
  },
  "language_info": {
   "codemirror_mode": {
    "name": "ipython",
    "version": 3
   },
   "file_extension": ".py",
   "mimetype": "text/x-python",
   "name": "python",
   "nbconvert_exporter": "python",
   "pygments_lexer": "ipython3",
   "version": "3.5.2"
  }
 },
 "nbformat": 4,
 "nbformat_minor": 2
}
