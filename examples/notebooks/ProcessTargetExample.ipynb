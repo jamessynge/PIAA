{
 "cells": [
  {
   "cell_type": "code",
   "execution_count": 1,
   "metadata": {},
   "outputs": [],
   "source": [
    "%load_ext autotime"
   ]
  },
  {
   "cell_type": "code",
   "execution_count": 2,
   "metadata": {},
   "outputs": [
    {
     "name": "stderr",
     "output_type": "stream",
     "text": [
      "WARNING: OldEarthOrientationDataWarning: Your version of the IERS Bulletin A is 180.3 days old. For best precision (on the order of arcseconds), you must download an up-to-date IERS Bulletin A table. To do so, run:\n",
      "\n",
      ">>> from astroplan import download_IERS_A\n",
      ">>> download_IERS_A()\n",
      " [astroplan.utils]\n"
     ]
    },
    {
     "name": "stdout",
     "output_type": "stream",
     "text": [
      "time: 2.91 s\n"
     ]
    }
   ],
   "source": [
    "import os\n",
    "from glob import glob\n",
    "import h5py\n",
    "import numpy as np\n",
    "import pandas as pd\n",
    "\n",
    "from IPython import display\n",
    "from matplotlib import pyplot as plt\n",
    "import matplotlib.offsetbox as offsetbox\n",
    "\n",
    "from astropy.modeling import models, fitting\n",
    "from astropy.time import Time\n",
    "from astropy.io import fits\n",
    "from astropy.wcs import WCS\n",
    "from astropy.stats import sigma_clipped_stats, sigma_clip\n",
    "from astroquery.exoplanet_orbit_database import ExoplanetOrbitDatabase\n",
    "from astropy.nddata.utils import Cutout2D, PartialOverlapError, NoOverlapError\n",
    "from astropy.coordinates import SkyCoord\n",
    "from astropy import units as u\n",
    "from astropy import constants as c\n",
    "\n",
    "# Query Exoplanet Orbit Database (exoplanets.org) for planet properties\n",
    "from astroquery.exoplanet_orbit_database import ExoplanetOrbitDatabase\n",
    "from astroplan import EclipsingSystem\n",
    "from astropy.time import Time\n",
    "\n",
    "from matplotlib import pyplot as plt\n",
    "plt.style.use('bmh')\n",
    "\n",
    "import batman\n",
    "\n",
    "from dateutil.parser import parse as date_parse\n",
    "from tqdm import tqdm_notebook\n",
    "\n",
    "from piaa.utils import helpers\n",
    "from piaa.utils import plot\n",
    "from piaa.utils import pipeline"
   ]
  },
  {
   "cell_type": "code",
   "execution_count": 3,
   "metadata": {},
   "outputs": [
    {
     "name": "stdin",
     "output_type": "stream",
     "text": [
      "Password for TESS Catalog DB ·············\n"
     ]
    },
    {
     "name": "stdout",
     "output_type": "stream",
     "text": [
      "time: 4.97 s\n"
     ]
    }
   ],
   "source": [
    "# Get the database password if not set\n",
    "if 'PGPASSWORD' not in os.environ:\n",
    "    import getpass\n",
    "    os.environ['PGPASSWORD'] = getpass.getpass(\"Password for TESS Catalog DB\")"
   ]
  },
  {
   "cell_type": "markdown",
   "metadata": {},
   "source": [
    "#### Observation information\n",
    "\n",
    "Set up information about the observation sequence. Here we are working with files that have previosly been downloaded."
   ]
  },
  {
   "cell_type": "code",
   "execution_count": 4,
   "metadata": {},
   "outputs": [
    {
     "name": "stdout",
     "output_type": "stream",
     "text": [
      "time: 882 µs\n"
     ]
    }
   ],
   "source": [
    "base_dir = '/var/panoptes/images/temp/PAN012/20180822T035809/'"
   ]
  },
  {
   "cell_type": "code",
   "execution_count": 5,
   "metadata": {},
   "outputs": [
    {
     "name": "stdout",
     "output_type": "stream",
     "text": [
      "Found 128 FITS files\n",
      "time: 3.97 ms\n"
     ]
    }
   ],
   "source": [
    "fits_files = sorted(glob(\n",
    "    os.path.join(base_dir, '2018*.fits')\n",
    "), )\n",
    "print(\"Found {} FITS files\".format(len(fits_files)))"
   ]
  },
  {
   "cell_type": "code",
   "execution_count": 6,
   "metadata": {},
   "outputs": [
    {
     "name": "stdout",
     "output_type": "stream",
     "text": [
      "time: 139 ms\n"
     ]
    }
   ],
   "source": [
    "# Get the data and WCS for the first frame\n",
    "d0 = fits.getdata(fits_files[0])\n",
    "wcs = WCS(fits_files[0])"
   ]
  },
  {
   "cell_type": "markdown",
   "metadata": {},
   "source": [
    "##### Lookup point sources\n",
    "\n",
    "By default the first image will be passed to `sextractor` for basic point source detection. This image will then be catalog matched to the TESS (v6) catalog for source identification.\n",
    "\n",
    "See `pipeline.lookup_point_sources?` for options."
   ]
  },
  {
   "cell_type": "code",
   "execution_count": 7,
   "metadata": {},
   "outputs": [
    {
     "name": "stdout",
     "output_type": "stream",
     "text": [
      "Found 1141 sources\n",
      "time: 4.27 s\n"
     ]
    }
   ],
   "source": [
    "# Lookup the point sources\n",
    "point_sources = pipeline.lookup_point_sources(\n",
    "    fits_files[0], \n",
    "    force_new=True,\n",
    "#     method='photutils',\n",
    "#     catalog_match=False\n",
    ")\n",
    "\n",
    "print(\"Found {} sources\".format(len(point_sources)))"
   ]
  },
  {
   "cell_type": "code",
   "execution_count": 8,
   "metadata": {},
   "outputs": [
    {
     "data": {
      "text/html": [
       "<div>\n",
       "<style scoped>\n",
       "    .dataframe tbody tr th:only-of-type {\n",
       "        vertical-align: middle;\n",
       "    }\n",
       "\n",
       "    .dataframe tbody tr th {\n",
       "        vertical-align: top;\n",
       "    }\n",
       "\n",
       "    .dataframe thead th {\n",
       "        text-align: right;\n",
       "    }\n",
       "</style>\n",
       "<table border=\"1\" class=\"dataframe\">\n",
       "  <thead>\n",
       "    <tr style=\"text-align: right;\">\n",
       "      <th></th>\n",
       "      <th>x</th>\n",
       "      <th>y</th>\n",
       "      <th>ra</th>\n",
       "      <th>dec</th>\n",
       "      <th>background</th>\n",
       "      <th>flux_auto</th>\n",
       "      <th>flux_max</th>\n",
       "      <th>fluxerr_auto</th>\n",
       "      <th>fwhm</th>\n",
       "      <th>flags</th>\n",
       "      <th>snr</th>\n",
       "      <th>twomass</th>\n",
       "      <th>tmag</th>\n",
       "      <th>vmag</th>\n",
       "      <th>d2d</th>\n",
       "    </tr>\n",
       "    <tr>\n",
       "      <th>id</th>\n",
       "      <th></th>\n",
       "      <th></th>\n",
       "      <th></th>\n",
       "      <th></th>\n",
       "      <th></th>\n",
       "      <th></th>\n",
       "      <th></th>\n",
       "      <th></th>\n",
       "      <th></th>\n",
       "      <th></th>\n",
       "      <th></th>\n",
       "      <th></th>\n",
       "      <th></th>\n",
       "      <th></th>\n",
       "      <th></th>\n",
       "    </tr>\n",
       "  </thead>\n",
       "  <tbody>\n",
       "    <tr>\n",
       "      <th>88492408</th>\n",
       "      <td>890.4586</td>\n",
       "      <td>63.7219</td>\n",
       "      <td>304.391749</td>\n",
       "      <td>26.368209</td>\n",
       "      <td>2914.699</td>\n",
       "      <td>33220.620</td>\n",
       "      <td>3642.551</td>\n",
       "      <td>2258.1410</td>\n",
       "      <td>7.23</td>\n",
       "      <td>0</td>\n",
       "      <td>14.711491</td>\n",
       "      <td>20173465+2622131</td>\n",
       "      <td>7.373</td>\n",
       "      <td>7.919</td>\n",
       "      <td>0.002881</td>\n",
       "    </tr>\n",
       "    <tr>\n",
       "      <th>88473326</th>\n",
       "      <td>3901.3503</td>\n",
       "      <td>62.9118</td>\n",
       "      <td>304.087702</td>\n",
       "      <td>17.793530</td>\n",
       "      <td>3142.388</td>\n",
       "      <td>11359.230</td>\n",
       "      <td>1872.613</td>\n",
       "      <td>1567.9100</td>\n",
       "      <td>3.45</td>\n",
       "      <td>0</td>\n",
       "      <td>7.244823</td>\n",
       "      <td>20162138+1747370</td>\n",
       "      <td>7.675</td>\n",
       "      <td>8.622</td>\n",
       "      <td>0.001317</td>\n",
       "    </tr>\n",
       "    <tr>\n",
       "      <th>304828741</th>\n",
       "      <td>1908.9978</td>\n",
       "      <td>68.0005</td>\n",
       "      <td>304.270718</td>\n",
       "      <td>23.473355</td>\n",
       "      <td>2878.175</td>\n",
       "      <td>7670.520</td>\n",
       "      <td>6100.224</td>\n",
       "      <td>938.3816</td>\n",
       "      <td>0.00</td>\n",
       "      <td>0</td>\n",
       "      <td>8.174201</td>\n",
       "      <td>20170591+2329107</td>\n",
       "      <td>11.479</td>\n",
       "      <td>13.570</td>\n",
       "      <td>0.013440</td>\n",
       "    </tr>\n",
       "    <tr>\n",
       "      <th>88393533</th>\n",
       "      <td>1635.5128</td>\n",
       "      <td>66.5553</td>\n",
       "      <td>304.303655</td>\n",
       "      <td>24.252246</td>\n",
       "      <td>3197.187</td>\n",
       "      <td>6494.521</td>\n",
       "      <td>1530.652</td>\n",
       "      <td>1674.7830</td>\n",
       "      <td>0.82</td>\n",
       "      <td>0</td>\n",
       "      <td>3.877828</td>\n",
       "      <td>20171311+2415070</td>\n",
       "      <td>8.768</td>\n",
       "      <td>8.990</td>\n",
       "      <td>0.000910</td>\n",
       "    </tr>\n",
       "    <tr>\n",
       "      <th>304608348</th>\n",
       "      <td>2691.8850</td>\n",
       "      <td>70.1567</td>\n",
       "      <td>304.184420</td>\n",
       "      <td>21.240332</td>\n",
       "      <td>3225.460</td>\n",
       "      <td>8699.385</td>\n",
       "      <td>2697.743</td>\n",
       "      <td>1291.8470</td>\n",
       "      <td>2.13</td>\n",
       "      <td>0</td>\n",
       "      <td>6.734068</td>\n",
       "      <td>20164425+2114302</td>\n",
       "      <td>8.348</td>\n",
       "      <td>8.784</td>\n",
       "      <td>0.001371</td>\n",
       "    </tr>\n",
       "  </tbody>\n",
       "</table>\n",
       "</div>"
      ],
      "text/plain": [
       "                   x        y          ra        dec  background  flux_auto  \\\n",
       "id                                                                            \n",
       "88492408    890.4586  63.7219  304.391749  26.368209    2914.699  33220.620   \n",
       "88473326   3901.3503  62.9118  304.087702  17.793530    3142.388  11359.230   \n",
       "304828741  1908.9978  68.0005  304.270718  23.473355    2878.175   7670.520   \n",
       "88393533   1635.5128  66.5553  304.303655  24.252246    3197.187   6494.521   \n",
       "304608348  2691.8850  70.1567  304.184420  21.240332    3225.460   8699.385   \n",
       "\n",
       "           flux_max  fluxerr_auto  fwhm  flags        snr           twomass  \\\n",
       "id                                                                            \n",
       "88492408   3642.551     2258.1410  7.23      0  14.711491  20173465+2622131   \n",
       "88473326   1872.613     1567.9100  3.45      0   7.244823  20162138+1747370   \n",
       "304828741  6100.224      938.3816  0.00      0   8.174201  20170591+2329107   \n",
       "88393533   1530.652     1674.7830  0.82      0   3.877828  20171311+2415070   \n",
       "304608348  2697.743     1291.8470  2.13      0   6.734068  20164425+2114302   \n",
       "\n",
       "             tmag    vmag       d2d  \n",
       "id                                   \n",
       "88492408    7.373   7.919  0.002881  \n",
       "88473326    7.675   8.622  0.001317  \n",
       "304828741  11.479  13.570  0.013440  \n",
       "88393533    8.768   8.990  0.000910  \n",
       "304608348   8.348   8.784  0.001371  "
      ]
     },
     "execution_count": 8,
     "metadata": {},
     "output_type": "execute_result"
    },
    {
     "name": "stdout",
     "output_type": "stream",
     "text": [
      "time: 29.4 ms\n"
     ]
    }
   ],
   "source": [
    "# Show top entries\n",
    "point_sources.head()"
   ]
  },
  {
   "cell_type": "code",
   "execution_count": 9,
   "metadata": {},
   "outputs": [
    {
     "data": {
      "text/plain": [
       "'116572967'"
      ]
     },
     "execution_count": 9,
     "metadata": {},
     "output_type": "execute_result"
    },
    {
     "name": "stdout",
     "output_type": "stream",
     "text": [
      "time: 10.9 ms\n"
     ]
    }
   ],
   "source": [
    "picid = str(point_sources[np.logical_and(\n",
    "    point_sources.flags == 0,\n",
    "    point_sources.fwhm < 5,\n",
    ")].sort_values(['snr', 'fwhm'], ascending=False).index[np.random.randint(10)])\n",
    "\n",
    "picid"
   ]
  },
  {
   "cell_type": "markdown",
   "metadata": {},
   "source": [
    "#### Target Information\n",
    "\n",
    "Lookup information about HD-189733. We use the 2mass ID to query the TESS catalog to get to get the ID, which we refer to as the PANOPTES Input Cataog ID (PICID). _(The PANOPTES catalog is basically the TESS catalog.)_"
   ]
  },
  {
   "cell_type": "code",
   "execution_count": 10,
   "metadata": {},
   "outputs": [
    {
     "data": {
      "text/plain": [
       "'256364928'"
      ]
     },
     "execution_count": 10,
     "metadata": {},
     "output_type": "execute_result"
    },
    {
     "name": "stdout",
     "output_type": "stream",
     "text": [
      "time: 395 ms\n"
     ]
    }
   ],
   "source": [
    "# HD 189733\n",
    "picid = str(helpers.get_star_info(twomass_id='20004370+2242391')[0])\n",
    "picid"
   ]
  },
  {
   "cell_type": "code",
   "execution_count": 11,
   "metadata": {},
   "outputs": [
    {
     "data": {
      "text/plain": [
       "x                        2204.69\n",
       "y                        1379.59\n",
       "ra                       300.182\n",
       "dec                      22.7091\n",
       "background                3203.3\n",
       "flux_auto                52207.9\n",
       "flux_max                 5327.62\n",
       "fluxerr_auto             1993.78\n",
       "fwhm                        3.62\n",
       "flags                          0\n",
       "snr                      26.1854\n",
       "twomass         20004370+2242391\n",
       "tmag                     6.81314\n",
       "vmag                        7.67\n",
       "d2d                  0.000871006\n",
       "Name: 256364928, dtype: object"
      ]
     },
     "execution_count": 11,
     "metadata": {},
     "output_type": "execute_result"
    },
    {
     "name": "stdout",
     "output_type": "stream",
     "text": [
      "time: 5.07 ms\n"
     ]
    }
   ],
   "source": [
    "# Show the sextractor and catalog match info for target\n",
    "point_sources.loc[int(picid)]"
   ]
  },
  {
   "cell_type": "markdown",
   "metadata": {},
   "source": [
    "#### Create PSC for all sources\n",
    "\n",
    "Loop through all the detected sources and create a Postage Stamp Cube (PSC) for each source.\n",
    "\n",
    "These PSC are saved in one HDF5 file named after the observation sequence.\n",
    "\n",
    "Each PSC is $N \\times M$, where $M$ is the squared-size of the side of the postage stamp (i.e. width * height, or a flattened array) and $N$ is the number of frames in the sequence. A stamp will always be square and will have a red pixel in the top-right corner. The stamp size should always be an odd multiple of superpixels (2x2 - RGGB), e.g. 3,5,7 => 3x2=6, 5x2=10, 7x2=14.\n",
    "\n",
    "> Note: Sources with any `flags` are filtered as well as $vmag < 14$"
   ]
  },
  {
   "cell_type": "code",
   "execution_count": 12,
   "metadata": {},
   "outputs": [
    {
     "data": {
      "text/plain": [
       "'PAN012_358d0f_20180822T035809'"
      ]
     },
     "execution_count": 12,
     "metadata": {},
     "output_type": "execute_result"
    },
    {
     "name": "stdout",
     "output_type": "stream",
     "text": [
      "time: 7.38 ms\n"
     ]
    }
   ],
   "source": [
    "# Lookup the sequence (for filename)\n",
    "sequence = fits.getval(fits_files[0], 'SEQID')\n",
    "sequence"
   ]
  },
  {
   "cell_type": "code",
   "execution_count": 13,
   "metadata": {},
   "outputs": [
    {
     "name": "stdout",
     "output_type": "stream",
     "text": [
      "time: 899 µs\n"
     ]
    }
   ],
   "source": [
    "# Stamp size should be much larger than source. See above\n",
    "stamp_size = (14, 14)"
   ]
  },
  {
   "cell_type": "markdown",
   "metadata": {},
   "source": [
    "_Note: Process below can be long-running the first time. Subsequent runs just return HDF5 file (unless `force__new=True`)._"
   ]
  },
  {
   "cell_type": "code",
   "execution_count": 14,
   "metadata": {},
   "outputs": [
    {
     "data": {
      "text/plain": [
       "'/var/panoptes/psc/PAN012_358d0f_20180822T035809.hdf5'"
      ]
     },
     "execution_count": 14,
     "metadata": {},
     "output_type": "execute_result"
    },
    {
     "name": "stdout",
     "output_type": "stream",
     "text": [
      "time: 4.06 ms\n"
     ]
    }
   ],
   "source": [
    "# Create stamps\n",
    "stamps_fn = pipeline.create_stamp_slices(\n",
    "    sequence,\n",
    "    fits_files,\n",
    "    point_sources,\n",
    "    stamp_size=stamp_size,\n",
    "#     force_new=True\n",
    ")\n",
    "stamps_fn"
   ]
  },
  {
   "cell_type": "code",
   "execution_count": 15,
   "metadata": {},
   "outputs": [
    {
     "data": {
      "text/plain": [
       "<HDF5 file \"PAN012_358d0f_20180822T035809.hdf5\" (mode r+)>"
      ]
     },
     "execution_count": 15,
     "metadata": {},
     "output_type": "execute_result"
    },
    {
     "name": "stdout",
     "output_type": "stream",
     "text": [
      "time: 3.58 ms\n"
     ]
    }
   ],
   "source": [
    "# Get all the PSC for the observation sequence.\n",
    "stamps = h5py.File(stamps_fn)\n",
    "stamps"
   ]
  },
  {
   "cell_type": "markdown",
   "metadata": {},
   "source": [
    "#### Info about Observation\n",
    "\n",
    "Get the image times and airmass information. There is currently a [bug](https://github.com/panoptes/POCS/issues/503) with the `DATE-OBS` keyword so we use the filename of the image to generate the timestamps. Otherwise the times would be stored in the `image_times` attribute of the stamps file.\n",
    "\n",
    "The `airmass` also comes from an attribute."
   ]
  },
  {
   "cell_type": "code",
   "execution_count": 16,
   "metadata": {},
   "outputs": [
    {
     "name": "stdout",
     "output_type": "stream",
     "text": [
      "time: 59.4 ms\n"
     ]
    }
   ],
   "source": [
    "# Get image times from filename\n",
    "image_times = [Time(\n",
    "    date_parse(os.path.splitext(fn.split('/')[-1])[0])\n",
    ").datetime\n",
    "for fn in fits_files if 'pointing' not in fn]"
   ]
  },
  {
   "cell_type": "code",
   "execution_count": 17,
   "metadata": {},
   "outputs": [
    {
     "name": "stdout",
     "output_type": "stream",
     "text": [
      "time: 1.44 ms\n"
     ]
    }
   ],
   "source": [
    "# image_times_mjd = stamps.attrs['image_times'] # MJD\n",
    "# image_times = [Time(t0, format='mjd').datetime for t0 in image_times_mjd]\n",
    "\n",
    "airmass = stamps.attrs['airmass'][:-1]"
   ]
  },
  {
   "cell_type": "markdown",
   "metadata": {},
   "source": [
    "#### Target PSC\n",
    "\n",
    "Lookup the target coordinates and check target drift over the course of the observation."
   ]
  },
  {
   "cell_type": "code",
   "execution_count": 18,
   "metadata": {},
   "outputs": [
    {
     "name": "stdout",
     "output_type": "stream",
     "text": [
      "time: 4.82 ms\n"
     ]
    }
   ],
   "source": [
    "# Lookup target information - HD 189733\n",
    "# target_coords = SkyCoord('20h00m43.713s +22d42m39.07s')\n",
    "\n",
    "target_coords = SkyCoord(point_sources.loc[int(picid)].ra * u.deg, point_sources.loc[int(picid)].dec * u.deg)"
   ]
  },
  {
   "cell_type": "code",
   "execution_count": 19,
   "metadata": {},
   "outputs": [
    {
     "data": {
      "image/png": "[encoded data removed]",
      "text/plain": [
       "<Figure size 864x648 with 1 Axes>"
      ]
     },
     "metadata": {},
     "output_type": "display_data"
    },
    {
     "name": "stdout",
     "output_type": "stream",
     "text": [
      "time: 3.64 s\n"
     ]
    }
   ],
   "source": [
    "x_pos, y_pos = helpers.get_pixel_drift(target_coords, fits_files)\n",
    "\n",
    "out_fn = '/var/panoptes/images/temp/PAN012/target_movement.png'\n",
    "\n",
    "drift_pic = plot.plot_pixel_drift(\n",
    "    x_pos, \n",
    "    y_pos, \n",
    "    index=image_times, \n",
    "    out_fn=out_fn,\n",
    "    title='{} pixel drift'.format(sequence)\n",
    ")\n",
    "display.display(drift_pic)"
   ]
  },
  {
   "cell_type": "markdown",
   "metadata": {},
   "source": [
    "##### Get target data\n",
    "\n",
    "We lookup the target PSC from our stamps file, doing a simple bias subtraction directly on the data. This should later be refined with a bias map."
   ]
  },
  {
   "cell_type": "code",
   "execution_count": 20,
   "metadata": {},
   "outputs": [
    {
     "name": "stdout",
     "output_type": "stream",
     "text": [
      "time: 821 µs\n"
     ]
    }
   ],
   "source": [
    "# Simple camera bias\n",
    "camera_bias = 2048 "
   ]
  },
  {
   "cell_type": "code",
   "execution_count": 21,
   "metadata": {},
   "outputs": [
    {
     "name": "stdout",
     "output_type": "stream",
     "text": [
      "time: 2.73 ms\n"
     ]
    }
   ],
   "source": [
    "# Get target PSC and subtract the bias\n",
    "target_psc = pipeline.get_psc(str(picid), stamps) - camera_bias"
   ]
  },
  {
   "cell_type": "code",
   "execution_count": 22,
   "metadata": {},
   "outputs": [
    {
     "name": "stdout",
     "output_type": "stream",
     "text": [
      "129 frames of 14x14 stamps\n",
      "time: 1.46 ms\n"
     ]
    }
   ],
   "source": [
    "num_frames = target_psc.shape[0]\n",
    "stamp_side = int(np.sqrt(target_psc.shape[1]))\n",
    "\n",
    "print(\"{0} frames of {1}x{1} stamps\".format(num_frames, stamp_side))"
   ]
  },
  {
   "cell_type": "code",
   "execution_count": 23,
   "metadata": {},
   "outputs": [
    {
     "name": "stdout",
     "output_type": "stream",
     "text": [
      "ra 300.1815477\n",
      "dec 22.7091198\n",
      "twomass 20004370+2242391\n",
      "vmag 7.670000076293945\n",
      "tmag 6.813139915466309\n",
      "flags 0\n",
      "snr 26.185379623318333\n",
      "time: 2.98 ms\n"
     ]
    }
   ],
   "source": [
    "# Show attributes stored with stamps file\n",
    "for attr, val in stamps[picid].attrs.items():\n",
    "    print(attr, val)"
   ]
  },
  {
   "cell_type": "markdown",
   "metadata": {},
   "source": [
    "Here $N = 129$ frames and $M = 196$ for the squared size of the stamp. We roll that back into a regular size (14x14) and animate it:"
   ]
  },
  {
   "cell_type": "code",
   "execution_count": 24,
   "metadata": {},
   "outputs": [
    {
     "name": "stdout",
     "output_type": "stream",
     "text": [
      "time: 3.66 ms\n"
     ]
    }
   ],
   "source": [
    "anim_fn = '/var/panoptes/images/temp/PAN012/hd189733_{}.mp4'.format(picid)\n",
    "\n",
    "if os.path.exists(anim_fn) is False:\n",
    "    target_animation = plot.animate_stamp(\n",
    "        target_psc.reshape(num_frames, stamp_side, stamp_side)\n",
    "    )\n",
    "\n",
    "    target_animation.save(anim_fn, dpi=150)\n",
    "\n",
    "    display.Video(target_animation)"
   ]
  },
  {
   "cell_type": "markdown",
   "metadata": {},
   "source": [
    "#### Find similar stars\n",
    "\n",
    "The target PSC and all source PSC are normalized on a frame-by-frame basis in order to determine the morphology of the source on an invidiual frames. The target PSC is then compared frame by frame for the entire observation sequence, returning the sum of summed squared difference of each target and source frame."
   ]
  },
  {
   "cell_type": "code",
   "execution_count": 25,
   "metadata": {},
   "outputs": [
    {
     "name": "stdout",
     "output_type": "stream",
     "text": [
      "time: 1.37 ms\n"
     ]
    }
   ],
   "source": [
    "# Removing the last five frames for clouds\n",
    "frame_slice = slice(1, -12)"
   ]
  },
  {
   "cell_type": "code",
   "execution_count": 26,
   "metadata": {},
   "outputs": [
    {
     "name": "stderr",
     "output_type": "stream",
     "text": [
      "                                                                     "
     ]
    },
    {
     "name": "stdout",
     "output_type": "stream",
     "text": [
      "time: 1.28 s\n"
     ]
    },
    {
     "name": "stderr",
     "output_type": "stream",
     "text": []
    }
   ],
   "source": [
    "vary_series = pipeline.find_similar_stars(picid, stamps, frame_slice=frame_slice)"
   ]
  },
  {
   "cell_type": "code",
   "execution_count": 27,
   "metadata": {},
   "outputs": [
    {
     "data": {
      "text/plain": [
       "<matplotlib.axes._subplots.AxesSubplot at 0x7ffa91d6c860>"
      ]
     },
     "execution_count": 27,
     "metadata": {},
     "output_type": "execute_result"
    },
    {
     "data": {
      "image/png": "[encoded data removed]",
      "text/plain": [
       "<Figure size 432x288 with 1 Axes>"
      ]
     },
     "metadata": {},
     "output_type": "display_data"
    },
    {
     "name": "stdout",
     "output_type": "stream",
     "text": [
      "time: 210 ms\n"
     ]
    }
   ],
   "source": [
    "# Show the first 250 entries\n",
    "vary_series[0:250].plot()"
   ]
  },
  {
   "cell_type": "markdown",
   "metadata": {},
   "source": [
    "#### Build stamp collection\n",
    "\n",
    "We build a stamp collection of PSCs consisting of the target PSC and its `num_ref` best matches. We again take off a simple bias for each PSC as we go.\n",
    "\n",
    "We also build a normalized version of the stamp collection."
   ]
  },
  {
   "cell_type": "code",
   "execution_count": 28,
   "metadata": {},
   "outputs": [
    {
     "name": "stdout",
     "output_type": "stream",
     "text": [
      "time: 901 µs\n"
     ]
    }
   ],
   "source": [
    "num_refs = 101  # target + 100"
   ]
  },
  {
   "cell_type": "code",
   "execution_count": 29,
   "metadata": {},
   "outputs": [
    {
     "name": "stdout",
     "output_type": "stream",
     "text": [
      "time: 53.1 ms\n"
     ]
    }
   ],
   "source": [
    "# Get the target and the top-matching references\n",
    "stamp_collection = np.array([\n",
    "    pipeline.get_psc(str(idx), stamps, frame_slice=frame_slice) - camera_bias \n",
    "    for idx in vary_series.index[:num_refs]])"
   ]
  },
  {
   "cell_type": "code",
   "execution_count": 30,
   "metadata": {},
   "outputs": [
    {
     "name": "stdout",
     "output_type": "stream",
     "text": [
      "time: 1.2 ms\n"
     ]
    }
   ],
   "source": [
    "# Get target PSC (may have changed with frame_slice)\n",
    "target_psc = stamp_collection[0]\n",
    "\n",
    "num_frames = stamp_collection.shape[1]"
   ]
  },
  {
   "cell_type": "code",
   "execution_count": 31,
   "metadata": {},
   "outputs": [
    {
     "name": "stdout",
     "output_type": "stream",
     "text": [
      "time: 29.8 ms\n"
     ]
    }
   ],
   "source": [
    "# Get a normalized version of the entire stamp collection\n",
    "normalized_collection = np.array([pipeline.normalize(s) for s in stamp_collection])"
   ]
  },
  {
   "cell_type": "markdown",
   "metadata": {},
   "source": [
    "#### Build reference coeffecients"
   ]
  },
  {
   "cell_type": "code",
   "execution_count": 32,
   "metadata": {},
   "outputs": [
    {
     "name": "stdout",
     "output_type": "stream",
     "text": [
      "time: 99.1 ms\n"
     ]
    }
   ],
   "source": [
    "# Get the coefficients the most optimally combine the normalized referenes into \n",
    "# one single master reference.\n",
    "coeffs = pipeline.get_ideal_full_coeffs(normalized_collection)"
   ]
  },
  {
   "cell_type": "markdown",
   "metadata": {},
   "source": [
    "#### Build reference PSC"
   ]
  },
  {
   "cell_type": "code",
   "execution_count": 33,
   "metadata": {},
   "outputs": [
    {
     "name": "stdout",
     "output_type": "stream",
     "text": [
      "time: 11.9 ms\n"
     ]
    }
   ],
   "source": [
    "# Use the coeffecients generated from the normalized references and\n",
    "# apply them to the non-normalized (i.e. flux) stamps\n",
    "ideal_psc = pipeline.get_ideal_full_psc(\n",
    "    stamp_collection, \n",
    "    coeffs[0]\n",
    ").reshape(num_frames, -1)"
   ]
  },
  {
   "cell_type": "markdown",
   "metadata": {},
   "source": [
    "Animate the reference stamp similar to the target stamp"
   ]
  },
  {
   "cell_type": "code",
   "execution_count": 34,
   "metadata": {},
   "outputs": [
    {
     "name": "stdout",
     "output_type": "stream",
     "text": [
      "time: 2.02 ms\n"
     ]
    }
   ],
   "source": [
    "# Animate the ideal reference\n",
    "\n",
    "anim_fn = '/var/panoptes/images/temp/PAN012/hd189733_{}_ref.mp4'.format(picid)\n",
    "\n",
    "if os.path.exists(anim_fn) is False:\n",
    "    ref_animation = plot.animate_stamp(\n",
    "        ideal_psc.reshape(num_frames, stamp_side, stamp_side)\n",
    "    )\n",
    "\n",
    "    ref_animation.save(anim_fn, dpi=150)\n",
    "\n",
    "    display.display(ref_animation)"
   ]
  },
  {
   "cell_type": "markdown",
   "metadata": {},
   "source": [
    "#### Show Target and reference comparison\n",
    "\n",
    "We look at a single frame on both the target and the reference as well as the residual."
   ]
  },
  {
   "cell_type": "code",
   "execution_count": 35,
   "metadata": {},
   "outputs": [
    {
     "name": "stdout",
     "output_type": "stream",
     "text": [
      "time: 885 µs\n"
     ]
    }
   ],
   "source": [
    "frame_idx = 3"
   ]
  },
  {
   "cell_type": "code",
   "execution_count": 36,
   "metadata": {},
   "outputs": [
    {
     "data": {
      "image/png": "[encoded data removed]",
      "text/plain": [
       "<Figure size 900x400 with 6 Axes>"
      ]
     },
     "metadata": {},
     "output_type": "display_data"
    },
    {
     "name": "stdout",
     "output_type": "stream",
     "text": [
      "time: 893 ms\n"
     ]
    }
   ],
   "source": [
    "# Reshape into square stamps and plot the requested frame\n",
    "stamp_fig = plot.show_stamps([\n",
    "    target_psc.reshape(num_frames, stamp_side, stamp_side), \n",
    "    ideal_psc.reshape(num_frames, stamp_side, stamp_side)\n",
    "], frame_idx=frame_idx, show_residual=True)\n",
    "\n",
    "stamp_fig.savefig('/var/panoptes/images/temp/PAN012/target_comparison.png', dpi=150)\n",
    "\n",
    "display.display(stamp_fig)"
   ]
  },
  {
   "cell_type": "markdown",
   "metadata": {},
   "source": [
    "#### Differential Aperture photometry\n",
    "\n",
    "Split into color channels and put an aperture around the source for both target and reference. Currently centroided by brightest pixel - needs improvement. Collect target and reference counts.\n",
    "\n",
    "Default aperture size is 4 pixels but this should also be adaptive in some sense."
   ]
  },
  {
   "cell_type": "code",
   "execution_count": 37,
   "metadata": {},
   "outputs": [
    {
     "name": "stdout",
     "output_type": "stream",
     "text": [
      "time: 283 ms\n"
     ]
    }
   ],
   "source": [
    "lc0 = pipeline.differential_photometry(target_psc, ideal_psc, image_times, aperture_size=5)\n",
    "\n",
    "# Save the lightcurve dataframe to a csv file\n",
    "# NOTE: We do this before normalizing\n",
    "csv_file = '/var/panoptes/images/temp/PAN012/{}_{}_lc.csv'.format(\n",
    "    sequence.replace('/', '_'), \n",
    "    picid\n",
    ")\n",
    "\n",
    "lc0.to_csv(csv_file)"
   ]
  },
  {
   "cell_type": "markdown",
   "metadata": {},
   "source": [
    "#### Show observation and transit info\n",
    "\n",
    "Plot the airmass of each observation along with the transit overlap."
   ]
  },
  {
   "cell_type": "code",
   "execution_count": 38,
   "metadata": {},
   "outputs": [
    {
     "data": {
      "image/png": "[encoded data removed]",
      "text/plain": [
       "<Figure size 864x648 with 1 Axes>"
      ]
     },
     "metadata": {},
     "output_type": "display_data"
    },
    {
     "name": "stdout",
     "output_type": "stream",
     "text": [
      "time: 600 ms\n"
     ]
    }
   ],
   "source": [
    "pd.Series(airmass, index=image_times).plot(figsize=(12, 9), marker='x', label='observation')\n",
    "\n",
    "plt.gca().invert_yaxis()\n",
    "plt.ylabel('Airmass')\n",
    "plt.xlabel('Time [UTC]')\n",
    "\n",
    "plt.title('Airmass of Observation - {}'.format(sequence))\n",
    "\n",
    "try:\n",
    "    plt.axvline(midpoint, label='mid-transit', ls='--', c='g')\n",
    "    plt.axvline(ingress, label='ingress', ls='--')\n",
    "    plt.axvline(egress, label='egress', ls='--')\n",
    "except NameError:\n",
    "    pass\n",
    "\n",
    "plt.legend()\n",
    "plt.savefig('/var/panoptes/images/temp/PAN012/airmass_with_transit.png')"
   ]
  },
  {
   "cell_type": "markdown",
   "metadata": {},
   "source": [
    "Get both the time delta (in days) as well as the orbital phase of the exoplanet."
   ]
  },
  {
   "cell_type": "code",
   "execution_count": 39,
   "metadata": {},
   "outputs": [
    {
     "data": {
      "text/html": [
       "<div>\n",
       "<style scoped>\n",
       "    .dataframe tbody tr th:only-of-type {\n",
       "        vertical-align: middle;\n",
       "    }\n",
       "\n",
       "    .dataframe tbody tr th {\n",
       "        vertical-align: top;\n",
       "    }\n",
       "\n",
       "    .dataframe thead th {\n",
       "        text-align: right;\n",
       "    }\n",
       "</style>\n",
       "<table border=\"1\" class=\"dataframe\">\n",
       "  <thead>\n",
       "    <tr style=\"text-align: right;\">\n",
       "      <th></th>\n",
       "      <th>reference</th>\n",
       "      <th>target</th>\n",
       "      <th>rel_flux</th>\n",
       "    </tr>\n",
       "    <tr>\n",
       "      <th>obstime</th>\n",
       "      <th></th>\n",
       "      <th></th>\n",
       "      <th></th>\n",
       "    </tr>\n",
       "  </thead>\n",
       "  <tbody>\n",
       "    <tr>\n",
       "      <th>2018-08-22 04:00:12</th>\n",
       "      <td>66866</td>\n",
       "      <td>68714</td>\n",
       "      <td>1.027637</td>\n",
       "    </tr>\n",
       "    <tr>\n",
       "      <th>2018-08-22 04:02:02</th>\n",
       "      <td>65840</td>\n",
       "      <td>67700</td>\n",
       "      <td>1.028250</td>\n",
       "    </tr>\n",
       "    <tr>\n",
       "      <th>2018-08-22 04:03:48</th>\n",
       "      <td>66533</td>\n",
       "      <td>68209</td>\n",
       "      <td>1.025191</td>\n",
       "    </tr>\n",
       "    <tr>\n",
       "      <th>2018-08-22 04:05:35</th>\n",
       "      <td>66146</td>\n",
       "      <td>68715</td>\n",
       "      <td>1.038838</td>\n",
       "    </tr>\n",
       "    <tr>\n",
       "      <th>2018-08-22 04:07:23</th>\n",
       "      <td>65779</td>\n",
       "      <td>67482</td>\n",
       "      <td>1.025890</td>\n",
       "    </tr>\n",
       "  </tbody>\n",
       "</table>\n",
       "</div>"
      ],
      "text/plain": [
       "                     reference  target  rel_flux\n",
       "obstime                                         \n",
       "2018-08-22 04:00:12      66866   68714  1.027637\n",
       "2018-08-22 04:02:02      65840   67700  1.028250\n",
       "2018-08-22 04:03:48      66533   68209  1.025191\n",
       "2018-08-22 04:05:35      66146   68715  1.038838\n",
       "2018-08-22 04:07:23      65779   67482  1.025890"
      ]
     },
     "execution_count": 39,
     "metadata": {},
     "output_type": "execute_result"
    },
    {
     "name": "stdout",
     "output_type": "stream",
     "text": [
      "time: 23.4 ms\n"
     ]
    }
   ],
   "source": [
    "# We are using all color channels combined for now\n",
    "lc1 = lc0.groupby('obstime').sum()\n",
    "\n",
    "# Redo the relative flux with new sums\n",
    "lc1['rel_flux'] = (lc1.target / lc1.reference)\n",
    "\n",
    "# pre_ingress_flux = lc1.loc[lc1.index < ingress].rel_flux\n",
    "# post_egress_flux = lc1.loc[lc1.index > egress].rel_flux\n",
    "\n",
    "# Normalize the entire observation relative flux by the pre-ingress mean\n",
    "# lc1['rel_flux'] = sigma_clip(lc1.rel_flux / pre_ingress_flux.mean()).filled(1)\n",
    "\n",
    "# Normalize by the mean\n",
    "# lc1['rel_flux'] = sigma_clip(lc1.rel_flux / lc1.rel_flux.mean()).filled(1)\n",
    "\n",
    "# Show top entries\n",
    "lc1.head()"
   ]
  },
  {
   "cell_type": "code",
   "execution_count": 40,
   "metadata": {},
   "outputs": [
    {
     "ename": "NameError",
     "evalue": "name 'midpoint' is not defined",
     "output_type": "error",
     "traceback": [
      "\u001b[0;31m---------------------------------------------------------------------------\u001b[0m",
      "\u001b[0;31mNameError\u001b[0m                                 Traceback (most recent call last)",
      "\u001b[0;32m<ipython-input-40-6afe2a2a77a2>\u001b[0m in \u001b[0;36m<module>\u001b[0;34m()\u001b[0m\n\u001b[1;32m      2\u001b[0m delta_days_before = [\n\u001b[1;32m      3\u001b[0m     \u001b[0;34m-\u001b[0m\u001b[0;36m1\u001b[0m \u001b[0;34m*\u001b[0m \u001b[0;34m(\u001b[0m\u001b[0;34m(\u001b[0m\u001b[0mmidpoint\u001b[0m \u001b[0;34m-\u001b[0m \u001b[0mt0\u001b[0m\u001b[0;34m)\u001b[0m\u001b[0;34m.\u001b[0m\u001b[0mseconds\u001b[0m \u001b[0;34m*\u001b[0m \u001b[0mu\u001b[0m\u001b[0;34m.\u001b[0m\u001b[0msecond\u001b[0m\u001b[0;34m)\u001b[0m\u001b[0;34m.\u001b[0m\u001b[0mto\u001b[0m\u001b[0;34m(\u001b[0m\u001b[0mu\u001b[0m\u001b[0;34m.\u001b[0m\u001b[0mday\u001b[0m\u001b[0;34m)\u001b[0m\u001b[0;34m.\u001b[0m\u001b[0mvalue\u001b[0m\u001b[0;34m\u001b[0m\u001b[0m\n\u001b[0;32m----> 4\u001b[0;31m     \u001b[0;32mfor\u001b[0m \u001b[0mt0\u001b[0m \u001b[0;32min\u001b[0m \u001b[0mlc1\u001b[0m\u001b[0;34m.\u001b[0m\u001b[0mindex\u001b[0m \u001b[0;32mif\u001b[0m \u001b[0mt0\u001b[0m \u001b[0;34m<\u001b[0m \u001b[0mmidpoint\u001b[0m\u001b[0;34m\u001b[0m\u001b[0m\n\u001b[0m\u001b[1;32m      5\u001b[0m ]\n\u001b[1;32m      6\u001b[0m \u001b[0;34m\u001b[0m\u001b[0m\n",
      "\u001b[0;32m<ipython-input-40-6afe2a2a77a2>\u001b[0m in \u001b[0;36m<listcomp>\u001b[0;34m(.0)\u001b[0m\n\u001b[1;32m      2\u001b[0m delta_days_before = [\n\u001b[1;32m      3\u001b[0m     \u001b[0;34m-\u001b[0m\u001b[0;36m1\u001b[0m \u001b[0;34m*\u001b[0m \u001b[0;34m(\u001b[0m\u001b[0;34m(\u001b[0m\u001b[0mmidpoint\u001b[0m \u001b[0;34m-\u001b[0m \u001b[0mt0\u001b[0m\u001b[0;34m)\u001b[0m\u001b[0;34m.\u001b[0m\u001b[0mseconds\u001b[0m \u001b[0;34m*\u001b[0m \u001b[0mu\u001b[0m\u001b[0;34m.\u001b[0m\u001b[0msecond\u001b[0m\u001b[0;34m)\u001b[0m\u001b[0;34m.\u001b[0m\u001b[0mto\u001b[0m\u001b[0;34m(\u001b[0m\u001b[0mu\u001b[0m\u001b[0;34m.\u001b[0m\u001b[0mday\u001b[0m\u001b[0;34m)\u001b[0m\u001b[0;34m.\u001b[0m\u001b[0mvalue\u001b[0m\u001b[0;34m\u001b[0m\u001b[0m\n\u001b[0;32m----> 4\u001b[0;31m     \u001b[0;32mfor\u001b[0m \u001b[0mt0\u001b[0m \u001b[0;32min\u001b[0m \u001b[0mlc1\u001b[0m\u001b[0;34m.\u001b[0m\u001b[0mindex\u001b[0m \u001b[0;32mif\u001b[0m \u001b[0mt0\u001b[0m \u001b[0;34m<\u001b[0m \u001b[0mmidpoint\u001b[0m\u001b[0;34m\u001b[0m\u001b[0m\n\u001b[0m\u001b[1;32m      5\u001b[0m ]\n\u001b[1;32m      6\u001b[0m \u001b[0;34m\u001b[0m\u001b[0m\n",
      "\u001b[0;31mNameError\u001b[0m: name 'midpoint' is not defined"
     ]
    },
    {
     "name": "stdout",
     "output_type": "stream",
     "text": [
      "time: 70.2 ms\n"
     ]
    }
   ],
   "source": [
    "# Get the time offsets as the delta (in days) from the midpoint\n",
    "delta_days_before = [\n",
    "    -1 * ((midpoint - t0).seconds * u.second).to(u.day).value \n",
    "    for t0 in lc1.index if t0 < midpoint\n",
    "]\n",
    "\n",
    "delta_days_after = [\n",
    "    ((t0 - midpoint).seconds * u.second).to(u.day).value \n",
    "    for t0 in lc1.index if t0 >= midpoint\n",
    "]\n",
    "\n",
    "delta_days = np.array(delta_days_before + delta_days_after)\n",
    "\n",
    "# Get the orbital phase of the exoplanet\n",
    "orbital_phase = np.array([helpers.get_planet_phase(period.value, midpoint, t0) for t0 in lc1.index])"
   ]
  },
  {
   "cell_type": "markdown",
   "metadata": {},
   "source": [
    "#### Plot lightcurve"
   ]
  },
  {
   "cell_type": "code",
   "execution_count": 41,
   "metadata": {},
   "outputs": [
    {
     "ename": "NameError",
     "evalue": "name 'base_model_flux' is not defined",
     "output_type": "error",
     "traceback": [
      "\u001b[0;31m---------------------------------------------------------------------------\u001b[0m",
      "\u001b[0;31mNameError\u001b[0m                                 Traceback (most recent call last)",
      "\u001b[0;32m<ipython-input-41-1a3cfd96d9b0>\u001b[0m in \u001b[0;36m<module>\u001b[0;34m()\u001b[0m\n\u001b[1;32m      6\u001b[0m \u001b[0;31m# base_model_flux = np.ones_like(lc1.rel_flux.values)\u001b[0m\u001b[0;34m\u001b[0m\u001b[0;34m\u001b[0m\u001b[0m\n\u001b[1;32m      7\u001b[0m \u001b[0;34m\u001b[0m\u001b[0m\n\u001b[0;32m----> 8\u001b[0;31m lc_fig = pipeline.plot_lightcurve(x, y, base_model_flux, \n\u001b[0m\u001b[1;32m      9\u001b[0m     \u001b[0mtransit_info\u001b[0m\u001b[0;34m=\u001b[0m\u001b[0;34m[\u001b[0m\u001b[0mmidpoint\u001b[0m\u001b[0;34m,\u001b[0m \u001b[0mingress\u001b[0m\u001b[0;34m,\u001b[0m \u001b[0megress\u001b[0m\u001b[0;34m]\u001b[0m\u001b[0;34m,\u001b[0m\u001b[0;34m\u001b[0m\u001b[0m\n\u001b[1;32m     10\u001b[0m     \u001b[0mtitle\u001b[0m\u001b[0;34m=\u001b[0m\u001b[0;34m\"{} Lightcurve\"\u001b[0m\u001b[0;34m.\u001b[0m\u001b[0mformat\u001b[0m\u001b[0;34m(\u001b[0m\u001b[0msequence\u001b[0m\u001b[0;34m.\u001b[0m\u001b[0mreplace\u001b[0m\u001b[0;34m(\u001b[0m\u001b[0;34m'_'\u001b[0m\u001b[0;34m,\u001b[0m \u001b[0;34m' '\u001b[0m\u001b[0;34m)\u001b[0m\u001b[0;34m)\u001b[0m\u001b[0;34m,\u001b[0m\u001b[0;34m\u001b[0m\u001b[0m\n",
      "\u001b[0;31mNameError\u001b[0m: name 'base_model_flux' is not defined"
     ]
    },
    {
     "name": "stdout",
     "output_type": "stream",
     "text": [
      "time: 14 ms\n"
     ]
    }
   ],
   "source": [
    "# Plot the lightcurve\n",
    "\n",
    "x = lc1.index\n",
    "y = lc1.rel_flux\n",
    "\n",
    "# base_model_flux = np.ones_like(lc1.rel_flux.values)\n",
    "\n",
    "lc_fig = pipeline.plot_lightcurve(x, y, base_model_flux, \n",
    "    transit_info=[midpoint, ingress, egress],\n",
    "    title=\"{} Lightcurve\".format(sequence.replace('_', ' ')),\n",
    "    ylim=[.96, 1.04]\n",
    ")\n",
    "\n",
    "# tmid = stamps[picid].attrs['twomass']\n",
    "# lc_fig.suptitle('2MASS J{}'.format(tmid), y=0.95, fontsize=16)\n",
    "\n",
    "# box_text = 'σ = {:.05}'.format(lc1.rel_flux.std())\n",
    "# ob = offsetbox.AnchoredText(box_text, loc=1, prop=dict(size=12, family=\"monospace\"))\n",
    "# ob.patch.set(boxstyle='square,pad=0.2', alpha=0.85)\n",
    "# lc_fig.axes[1].add_artist(ob)\n",
    "\n",
    "# Add some properties\n",
    "# ob = offsetbox.AnchoredText(props, loc=2, prop=dict(size=12, family=\"monospace\"))\n",
    "# ob.patch.set(boxstyle='square,pad=0.2', alpha=0.85)\n",
    "# lc_fig.axes[0].add_artist(ob)\n",
    "\n",
    "# lc_fig.axes[0].plot(lc1.index, model_flux, c='r', ls='--', label='Transit fit')\n",
    "# lc_fig.axes[0].legend()\n",
    "\n",
    "# residual = lc1.rel_flux - model_flux\n",
    "# lc_fig.axes[1].plot(lc1.index, residual, c='r', ls='', marker='x', label='Fit {:.04f}'.format(residual.std()))\n",
    "# lc_fig.axes[1].legend(loc=1, fontsize=14)\n",
    "\n",
    "lc_fig.savefig('/var/panoptes/images/temp/PAN012/final_lc_fit_{}.png'.format(picid), \n",
    "               dpi=150, transparent=False)\n",
    "\n",
    "display.display(lc_fig)"
   ]
  },
  {
   "cell_type": "code",
   "execution_count": 42,
   "metadata": {},
   "outputs": [
    {
     "ename": "AttributeError",
     "evalue": "'DataFrameGroupBy' object has no attribute 'rel_flux'",
     "output_type": "error",
     "traceback": [
      "\u001b[0;31m---------------------------------------------------------------------------\u001b[0m",
      "\u001b[0;31mAttributeError\u001b[0m                            Traceback (most recent call last)",
      "\u001b[0;32m<ipython-input-42-2e616f831ea0>\u001b[0m in \u001b[0;36m<module>\u001b[0;34m()\u001b[0m\n\u001b[0;32m----> 1\u001b[0;31m \u001b[0mcolor_means\u001b[0m \u001b[0;34m=\u001b[0m \u001b[0mlc0\u001b[0m\u001b[0;34m[\u001b[0m\u001b[0;36m0\u001b[0m\u001b[0;34m:\u001b[0m\u001b[0;36m20\u001b[0m\u001b[0;34m]\u001b[0m\u001b[0;34m.\u001b[0m\u001b[0mgroupby\u001b[0m\u001b[0;34m(\u001b[0m\u001b[0;34m'color'\u001b[0m\u001b[0;34m)\u001b[0m\u001b[0;34m.\u001b[0m\u001b[0mrel_flux\u001b[0m\u001b[0;34m.\u001b[0m\u001b[0mmean\u001b[0m\u001b[0;34m(\u001b[0m\u001b[0;34m)\u001b[0m\u001b[0;34m\u001b[0m\u001b[0m\n\u001b[0m\u001b[1;32m      2\u001b[0m \u001b[0;34m\u001b[0m\u001b[0m\n\u001b[1;32m      3\u001b[0m \u001b[0mlc2\u001b[0m \u001b[0;34m=\u001b[0m \u001b[0mlc0\u001b[0m\u001b[0;34m.\u001b[0m\u001b[0mcopy\u001b[0m\u001b[0;34m(\u001b[0m\u001b[0;34m)\u001b[0m\u001b[0;34m\u001b[0m\u001b[0m\n\u001b[1;32m      4\u001b[0m \u001b[0;34m\u001b[0m\u001b[0m\n\u001b[1;32m      5\u001b[0m \u001b[0;32mfor\u001b[0m \u001b[0mcolor\u001b[0m\u001b[0;34m,\u001b[0m \u001b[0mmean\u001b[0m \u001b[0;32min\u001b[0m \u001b[0mcolor_means\u001b[0m\u001b[0;34m.\u001b[0m\u001b[0miteritems\u001b[0m\u001b[0;34m(\u001b[0m\u001b[0;34m)\u001b[0m\u001b[0;34m:\u001b[0m\u001b[0;34m\u001b[0m\u001b[0m\n",
      "\u001b[0;32m~/miniconda3/lib/python3.6/site-packages/pandas/core/groupby/groupby.py\u001b[0m in \u001b[0;36m__getattr__\u001b[0;34m(self, attr)\u001b[0m\n\u001b[1;32m    763\u001b[0m \u001b[0;34m\u001b[0m\u001b[0m\n\u001b[1;32m    764\u001b[0m         raise AttributeError(\"%r object has no attribute %r\" %\n\u001b[0;32m--> 765\u001b[0;31m                              (type(self).__name__, attr))\n\u001b[0m\u001b[1;32m    766\u001b[0m \u001b[0;34m\u001b[0m\u001b[0m\n\u001b[1;32m    767\u001b[0m     @Substitution(klass='GroupBy',\n",
      "\u001b[0;31mAttributeError\u001b[0m: 'DataFrameGroupBy' object has no attribute 'rel_flux'"
     ]
    },
    {
     "name": "stdout",
     "output_type": "stream",
     "text": [
      "time: 15.8 ms\n"
     ]
    }
   ],
   "source": [
    "color_means = lc0[0:20].groupby('color').rel_flux.mean()\n",
    "\n",
    "lc2 = lc0.copy()\n",
    "\n",
    "for color, mean in color_means.iteritems():\n",
    "    print(color, mean)\n",
    "    raw_values = lc2.loc[lc2.color == color, ('rel_flux')]\n",
    "    lc2.loc[lc2.color == color, ('rel_flux')] = sigma_clip(raw_values / mean)"
   ]
  },
  {
   "cell_type": "markdown",
   "metadata": {},
   "source": [
    "---"
   ]
  },
  {
   "cell_type": "markdown",
   "metadata": {},
   "source": [
    "#### Playground"
   ]
  },
  {
   "cell_type": "markdown",
   "metadata": {},
   "source": [
    "Make a mini lightcurve"
   ]
  },
  {
   "cell_type": "markdown",
   "metadata": {},
   "source": [
    "Standard deviation as a function of window size"
   ]
  },
  {
   "cell_type": "code",
   "execution_count": 70,
   "metadata": {},
   "outputs": [
    {
     "data": {
      "text/plain": [
       "<matplotlib.axes._subplots.AxesSubplot at 0x7f66ad67c630>"
      ]
     },
     "execution_count": 70,
     "metadata": {},
     "output_type": "execute_result"
    },
    {
     "data": {
      "image/png": "[encoded data removed]",
      "text/plain": [
       "<Figure size 432x288 with 1 Axes>"
      ]
     },
     "metadata": {},
     "output_type": "display_data"
    },
    {
     "name": "stdout",
     "output_type": "stream",
     "text": [
      "time: 258 ms\n"
     ]
    }
   ],
   "source": [
    "lc1.resample('15T').mean().rel_flux.plot()"
   ]
  },
  {
   "cell_type": "code",
   "execution_count": 71,
   "metadata": {},
   "outputs": [
    {
     "data": {
      "text/plain": [
       "58"
      ]
     },
     "execution_count": 71,
     "metadata": {},
     "output_type": "execute_result"
    },
    {
     "name": "stdout",
     "output_type": "stream",
     "text": [
      "time: 3.36 ms\n"
     ]
    }
   ],
   "source": [
    "mid = int(num_frames / 2)\n",
    "mid"
   ]
  },
  {
   "cell_type": "code",
   "execution_count": 72,
   "metadata": {},
   "outputs": [
    {
     "name": "stdout",
     "output_type": "stream",
     "text": [
      "time: 73 ms\n"
     ]
    },
    {
     "name": "stderr",
     "output_type": "stream",
     "text": [
      "/home/wtylergee/miniconda3/lib/python3.6/site-packages/numpy/core/_methods.py:140: RuntimeWarning: Degrees of freedom <= 0 for slice\n",
      "  keepdims=keepdims)\n",
      "/home/wtylergee/miniconda3/lib/python3.6/site-packages/numpy/core/_methods.py:110: RuntimeWarning: invalid value encountered in true_divide\n",
      "  arrmean, rcount, out=arrmean, casting='unsafe', subok=False)\n",
      "/home/wtylergee/miniconda3/lib/python3.6/site-packages/numpy/core/_methods.py:132: RuntimeWarning: invalid value encountered in double_scalars\n",
      "  ret = ret.dtype.type(ret / rcount)\n"
     ]
    }
   ],
   "source": [
    "s1 = np.array([lc1.rel_flux[mid-i:mid+i].std() for i in range(mid)])\n",
    "s0 = np.array([lc1.rel_flux[0:i].std() for i in range(num_frames)])\n",
    "s2 = np.array([np.flip(lc1.rel_flux.values)[0:i].std() for i in range(num_frames)])"
   ]
  },
  {
   "cell_type": "code",
   "execution_count": 73,
   "metadata": {},
   "outputs": [
    {
     "data": {
      "text/plain": [
       "<matplotlib.legend.Legend at 0x7f66ad615a20>"
      ]
     },
     "execution_count": 73,
     "metadata": {},
     "output_type": "execute_result"
    },
    {
     "data": {
      "image/png": "[encoded data removed]",
      "text/plain": [
       "<Figure size 432x288 with 1 Axes>"
      ]
     },
     "metadata": {},
     "output_type": "display_data"
    },
    {
     "name": "stdout",
     "output_type": "stream",
     "text": [
      "time: 262 ms\n"
     ]
    }
   ],
   "source": [
    "plt.plot(s0[4::2], label='forward-growing')\n",
    "plt.plot(s1[4:], label='middle-growing')\n",
    "plt.plot(s2[4::2], label='reverse-growing')\n",
    "plt.ylabel('std')\n",
    "plt.ylabel('Number of frames')\n",
    "plt.legend()"
   ]
  },
  {
   "cell_type": "code",
   "execution_count": 74,
   "metadata": {},
   "outputs": [
    {
     "ename": "TypeError",
     "evalue": "'module' object is not callable",
     "output_type": "error",
     "traceback": [
      "\u001b[0;31m---------------------------------------------------------------------------\u001b[0m",
      "\u001b[0;31mTypeError\u001b[0m                                 Traceback (most recent call last)",
      "\u001b[0;32m<ipython-input-74-922355782589>\u001b[0m in \u001b[0;36m<module>\u001b[0;34m()\u001b[0m\n\u001b[1;32m     10\u001b[0m \u001b[0max\u001b[0m\u001b[0;34m.\u001b[0m\u001b[0mset_title\u001b[0m\u001b[0;34m(\u001b[0m\u001b[0mbox_text\u001b[0m\u001b[0;34m,\u001b[0m \u001b[0mfontsize\u001b[0m\u001b[0;34m=\u001b[0m\u001b[0;36m11\u001b[0m\u001b[0;34m)\u001b[0m\u001b[0;34m\u001b[0m\u001b[0m\n\u001b[1;32m     11\u001b[0m \u001b[0;34m\u001b[0m\u001b[0m\n\u001b[0;32m---> 12\u001b[0;31m \u001b[0mdisplay\u001b[0m\u001b[0;34m(\u001b[0m\u001b[0mfig\u001b[0m\u001b[0;34m)\u001b[0m\u001b[0;34m\u001b[0m\u001b[0m\n\u001b[0m",
      "\u001b[0;31mTypeError\u001b[0m: 'module' object is not callable"
     ]
    },
    {
     "data": {
      "image/png": "[encoded data removed]",
      "text/plain": [
       "<Figure size 144x72 with 1 Axes>"
      ]
     },
     "metadata": {},
     "output_type": "display_data"
    },
    {
     "name": "stdout",
     "output_type": "stream",
     "text": [
      "time: 339 ms\n"
     ]
    }
   ],
   "source": [
    "fig, ax = plt.subplots(1)\n",
    "\n",
    "fig.set_size_inches([2, 1])\n",
    "\n",
    "box_text = 'σ = {:.05}'.format(lc1.rel_flux.std())\n",
    "ax.plot(lc1.index, lc2[lc2.color == 'g'].rel_flux, marker='.', ls='')\n",
    "ax.set_ylim([.95, 1.05])\n",
    "ax.set_xticklabels([])\n",
    "ax.set_yticklabels([])\n",
    "ax.set_title(box_text, fontsize=11)\n",
    "\n",
    "display(fig)"
   ]
  }
 ],
 "metadata": {
  "kernelspec": {
   "display_name": "Python 3",
   "language": "python",
   "name": "python3"
  },
  "language_info": {
   "codemirror_mode": {
    "name": "ipython",
    "version": 3
   },
   "file_extension": ".py",
   "mimetype": "text/x-python",
   "name": "python",
   "nbconvert_exporter": "python",
   "pygments_lexer": "ipython3",
   "version": "3.6.6"
  }
 },
 "nbformat": 4,
 "nbformat_minor": 2
}
