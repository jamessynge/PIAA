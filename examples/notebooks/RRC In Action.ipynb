{
 "cells": [
  {
   "cell_type": "code",
   "execution_count": 1,
   "metadata": {
    "collapsed": false
   },
   "outputs": [],
   "source": [
    "%load_ext autoreload\n",
    "%autoreload 2\n",
    "\n",
    "from glob import glob\n",
    "from astropy.time import Time\n",
    "\n",
    "from astropy import units as u\n",
    "from astropy.coordinates import SkyCoord\n",
    "from astropy.io import fits\n",
    "from astropy.wcs import WCS\n",
    "from astropy.stats import sigma_clipped_stats\n",
    "\n",
    "import numpy as np\n",
    "import pandas as pd\n",
    "import seaborn as sns\n",
    "\n",
    "from photutils import RectangularAperture, RectangularAnnulus, aperture_photometry\n",
    "\n",
    "from matplotlib import pyplot as plt\n",
    "%matplotlib inline\n",
    "\n",
    "from pocs.utils import images\n",
    "from pocs.utils.jupyter import widgets\n",
    "from piaa import utils"
   ]
  },
  {
   "cell_type": "markdown",
   "metadata": {},
   "source": [
    "#  Get Data\n",
    "\n",
    "PIAA is run against an `observation`, which consists of a sequence of `images` for a given `field`. The `field`s are chosen by the PANOPTES network based on their stellar density, targets of interest, and sky coverage, amongst other factors. The default exposure time for each `image` is 120 seconds (regardlesss of conditions such as moon phase) and each `observation` consists of a minimum of two (2) hours of data, giving a total of at least 60 `image`s per `observation`. _(Note: The scheduler can choose to dwell on a field longer than the minimum amount of time, the details of which are not covered here.)_"
   ]
  },
  {
   "cell_type": "markdown",
   "metadata": {},
   "source": [
    "Here we select an `observation` of the field containing the star `KIC 8462852` (Tabby's star) taken on 2016-09-11 from `PAN001` on Mauna Loa. This particular `observation` was taken before the scheduler details were refined so only consists of 46 total exposures intead of 60."
   ]
  },
  {
   "cell_type": "code",
   "execution_count": 2,
   "metadata": {
    "collapsed": false
   },
   "outputs": [
    {
     "name": "stdout",
     "output_type": "stream",
     "text": [
      "Number of images: 43\n"
     ]
    }
   ],
   "source": [
    "field_dir = '/var/panoptes/images/fields/Kic8462852/14d3bd/20161108T053950/'\n",
    "seq_files = glob(\"{}/2016*.fits\".format(field_dir))\n",
    "seq_files.sort()\n",
    "print(\"Number of images: {}\".format(len(seq_files)))"
   ]
  },
  {
   "cell_type": "markdown",
   "metadata": {},
   "source": [
    "##### Point Sources\n",
    "\n",
    "PANOPTES will define a catalog of stars of particular interest, with each entry in the catalog being referred to as a PANOPTES Input Catalog (PIC) star. Each PIC will be identified by a reference id and the catalog will also contain the J2000 RA/Dec of the PIC. These coordinates will be in used with a plate-solved world coordinate system (WCS) to identify the PIC within each `image` of the `observation`."
   ]
  },
  {
   "cell_type": "markdown",
   "metadata": {},
   "source": [
    "Because the PICs have not yet formally been defined by PANOPTES, here we use `sextractor` on the first image in the `observation` to identify point sources. This list is not comprehensive and should not be considered representative of the eventual point sources that will be used by PANOPTES.\n",
    "\n",
    "No refinement of the `sextractor` parameters has been given, with all point sources not flagged by `sextractor` being used for the analysis in the rest of this document."
   ]
  },
  {
   "cell_type": "code",
   "execution_count": 3,
   "metadata": {
    "collapsed": false
   },
   "outputs": [
    {
     "name": "stdout",
     "output_type": "stream",
     "text": [
      "Number of point sources: 27913\n"
     ]
    }
   ],
   "source": [
    "point_sources = utils.get_point_sources(field_dir, seq_files)\n",
    "print(\"Number of point sources: {}\".format(len(point_sources)))"
   ]
  },
  {
   "cell_type": "markdown",
   "metadata": {},
   "source": [
    "# Identify Reference PSFs\n",
    "\n",
    "Reference PSFs are identifed via their morphological similarity with the target PSF across the entire `observation` according to the following process:\n",
    "\n",
    "1. Flux normalized postage stamp cubes (PSC) are created for each point source, where the `x` and `y` of the cube correspond to the stamp size (see below) and the `z` component corresponds to the individual `image`s.\n",
    "2. The sum-squared-difference (SSD) of the target stamp and a point source stamp is computed for each `image`.\n",
    "3. The SSDs are summed across all `image`s in the `observation`, giving a variance ($V$) value that identifies the similarity of the target with a particular point source.\n",
    "4. Steps 2-3 are repeated for all possible point sources.\n",
    "5. The point source stamps that have the lowest total variance are then referred to as the `reference` stamps."
   ]
  },
  {
   "cell_type": "markdown",
   "metadata": {},
   "source": [
    "Formally, steps 2 and 3 above are defined as:\n",
    "\n",
    "$$ \n",
    "V_{(x_r,y_r)} = \\sum_{i=0}^{n-1}\n",
    "    {\\big[ \n",
    "        \\sum_{u=-w}^{w}{ \n",
    "            \\big[\n",
    "            \\sum_{v=-w}^{w}{\n",
    "            \\big( \n",
    "                B_i(x_t + u, y_t + v) - B_i(x_r + u, y_r + v)\n",
    "            \\big)^2 \n",
    "            \\big]\n",
    "        }}\n",
    "    \\big]} \n",
    "$$\n",
    "\n",
    "$$(1)$$\n",
    "where:\n",
    "* $B$ is the set of images within an `observation`\n",
    "* $i$ is the image index within set $B$\n",
    "* $n$ is the number of images in set $B$\n",
    "* $u$ is the horizontal pixel offset\n",
    "* $v$ is the vertical pixel offset\n",
    "* $w$ denotes half the postage stamp width (assuming square stamp)\n",
    "* $(x_t,y_t)$ is the location of the star within the target postage stamp\n",
    "* $(x_r,y_r)$ is the location of the star within the reference postage stamp, and\n",
    "* $B_i(x + u,y + v)$ is the pixel value for pixel $(x + u,y + v)$ in postage stamp $i$ within group $B$.\n",
    "\n",
    "\n",
    "_Notes:_\n",
    "* _A postage stamp cube (PSC) is based on the coordiantes of the first image but large enough to capture drift to last image (the `radius` has `padding` to define a larger stamp size). Equation 1 is defined for a sqaure stamp size but the algorithm can handle any particular width and height of a stamp._"
   ]
  },
  {
   "cell_type": "markdown",
   "metadata": {},
   "source": [
    "### Get Postage Stamp Cubes (Step 1)\n",
    "\n",
    "For this particular we manually identify a postage stamp size of 40x10, which is enough to capture the drift across all images with at least a 2-pixel padding available around the point source in both the first and last image."
   ]
  },
  {
   "cell_type": "code",
   "execution_count": 4,
   "metadata": {
    "collapsed": false
   },
   "outputs": [
    {
     "name": "stdout",
     "output_type": "stream",
     "text": [
      "0..........10..........20..........30..........40...Processing time: 1977.38 s\n"
     ]
    }
   ],
   "source": [
    "# Make a data cube for the entire observation (and get timing)\n",
    "\n",
    "start = Time.now()\n",
    "\n",
    "# padding = (4, 10, 36, 0)\n",
    "normal_cube = utils.get_cube(seq_files, point_sources, radius=5, normalize=False)\n",
    "\n",
    "print(\"Processing time: {:.02f}\".format(((Time.now() - start).sec * u.second)))"
   ]
  },
  {
   "cell_type": "code",
   "execution_count": 5,
   "metadata": {
    "collapsed": false
   },
   "outputs": [
    {
     "data": {
      "text/plain": [
       "(27913, 43, 100)"
      ]
     },
     "execution_count": 5,
     "metadata": {},
     "output_type": "execute_result"
    }
   ],
   "source": [
    "normal_cube.shape"
   ]
  },
  {
   "cell_type": "markdown",
   "metadata": {},
   "source": [
    "##### Target of Interest identification\n",
    "\n",
    "For this document we are doing a comparison to a particular target of interest (KIC 8462852 - Tabby's Star), identified below along with other point sources surrounding the target. The results displayed are from the `sextractor` output. In the full PIAA processing, all point sources act as targets of interest such that the steps below are repeated for all possible targets."
   ]
  },
  {
   "cell_type": "code",
   "execution_count": 6,
   "metadata": {
    "collapsed": false
   },
   "outputs": [
    {
     "data": {
      "text/html": [
       "<div>\n",
       "<table border=\"1\" class=\"dataframe\">\n",
       "  <thead>\n",
       "    <tr style=\"text-align: right;\">\n",
       "      <th></th>\n",
       "      <th>MAG_BEST</th>\n",
       "      <th>X</th>\n",
       "      <th>Y</th>\n",
       "      <th>ALPHA_J2000</th>\n",
       "      <th>DELTA_J2000</th>\n",
       "    </tr>\n",
       "  </thead>\n",
       "  <tbody>\n",
       "    <tr>\n",
       "      <th>17735</th>\n",
       "      <td>-7.4415</td>\n",
       "      <td>2262.7693</td>\n",
       "      <td>2065.0227</td>\n",
       "      <td>301.503528</td>\n",
       "      <td>44.491174</td>\n",
       "    </tr>\n",
       "    <tr>\n",
       "      <th>17816</th>\n",
       "      <td>-8.5662</td>\n",
       "      <td>2242.5229</td>\n",
       "      <td>2071.8047</td>\n",
       "      <td>301.530026</td>\n",
       "      <td>44.433069</td>\n",
       "    </tr>\n",
       "    <tr>\n",
       "      <th>17850</th>\n",
       "      <td>-9.0741</td>\n",
       "      <td>2233.3979</td>\n",
       "      <td>2073.3005</td>\n",
       "      <td>301.535698</td>\n",
       "      <td>44.406918</td>\n",
       "    </tr>\n",
       "    <tr>\n",
       "      <th>17896</th>\n",
       "      <td>-8.2875</td>\n",
       "      <td>2250.5261</td>\n",
       "      <td>2079.8438</td>\n",
       "      <td>301.562542</td>\n",
       "      <td>44.455770</td>\n",
       "    </tr>\n",
       "    <tr>\n",
       "      <th>17928</th>\n",
       "      <td>-7.1408</td>\n",
       "      <td>2271.2026</td>\n",
       "      <td>2085.9175</td>\n",
       "      <td>301.587682</td>\n",
       "      <td>44.514784</td>\n",
       "    </tr>\n",
       "    <tr>\n",
       "      <th>17972</th>\n",
       "      <td>-8.5361</td>\n",
       "      <td>2251.9905</td>\n",
       "      <td>2088.3586</td>\n",
       "      <td>301.596740</td>\n",
       "      <td>44.459737</td>\n",
       "    </tr>\n",
       "    <tr>\n",
       "      <th>18119</th>\n",
       "      <td>-8.7407</td>\n",
       "      <td>2249.9963</td>\n",
       "      <td>2101.0164</td>\n",
       "      <td>301.647412</td>\n",
       "      <td>44.453678</td>\n",
       "    </tr>\n",
       "  </tbody>\n",
       "</table>\n",
       "</div>"
      ],
      "text/plain": [
       "       MAG_BEST          X          Y  ALPHA_J2000  DELTA_J2000\n",
       "17735   -7.4415  2262.7693  2065.0227   301.503528    44.491174\n",
       "17816   -8.5662  2242.5229  2071.8047   301.530026    44.433069\n",
       "17850   -9.0741  2233.3979  2073.3005   301.535698    44.406918\n",
       "17896   -8.2875  2250.5261  2079.8438   301.562542    44.455770\n",
       "17928   -7.1408  2271.2026  2085.9175   301.587682    44.514784\n",
       "17972   -8.5361  2251.9905  2088.3586   301.596740    44.459737\n",
       "18119   -8.7407  2249.9963  2101.0164   301.647412    44.453678"
      ]
     },
     "execution_count": 6,
     "metadata": {},
     "output_type": "execute_result"
    }
   ],
   "source": [
    "# Get the coordinates for the particular \n",
    "target = SkyCoord.from_name('Kic8462852')\n",
    "\n",
    "# Target of interest (manual lookup)\n",
    "ps = point_sources.to_pandas()\n",
    "ps[\n",
    "    (ps['ALPHA_J2000'] >= target.ra.value - 0.1) & (ps['ALPHA_J2000'] <= target.ra.value + 0.1) & \n",
    "    (ps['DELTA_J2000'] <= target.dec.value + 0.1) & (ps['DELTA_J2000'] >= target.dec.value - 0.1)]"
   ]
  },
  {
   "cell_type": "markdown",
   "metadata": {},
   "source": [
    "#### Get Variance (Step 2-3)\n",
    "\n",
    "We use our target star as a comparison and compare it to all other point sources in the image."
   ]
  },
  {
   "cell_type": "code",
   "execution_count": 7,
   "metadata": {
    "collapsed": true
   },
   "outputs": [],
   "source": [
    "full_cube = normal_cube.copy()"
   ]
  },
  {
   "cell_type": "code",
   "execution_count": 97,
   "metadata": {
    "collapsed": false
   },
   "outputs": [
    {
     "name": "stdout",
     "output_type": "stream",
     "text": [
      "Processing time: 0.000015 s\n"
     ]
    }
   ],
   "source": [
    "# Get the variance of the target with each point source and add it to the point source table\n",
    "\n",
    "start = Time.now()\n",
    "\n",
    "# Get the variance\n",
    "target_index = 17896 # See table above\n",
    "ps['V'] = pd.Series(utils.get_all_variance(normal_cube, target_index, normalize=True))\n",
    "\n",
    "# Sort the values by lowest total variance\n",
    "ps.sort_values(by=['V'], inplace=True)\n",
    "\n",
    "# Save values to file\n",
    "ps.to_csv('vary_kic8462852_{}.csv'.format(target_index))\n",
    "    \n",
    "print(\"Processing time: {:02f}\".format(((Time.now() - start).value * u.second)))"
   ]
  },
  {
   "cell_type": "markdown",
   "metadata": {},
   "source": [
    "##### Display Variances"
   ]
  },
  {
   "cell_type": "code",
   "execution_count": 98,
   "metadata": {
    "collapsed": false
   },
   "outputs": [
    {
     "data": {
      "text/html": [
       "<div>\n",
       "<table border=\"1\" class=\"dataframe\">\n",
       "  <thead>\n",
       "    <tr style=\"text-align: right;\">\n",
       "      <th></th>\n",
       "      <th>MAG_BEST</th>\n",
       "      <th>X</th>\n",
       "      <th>Y</th>\n",
       "      <th>ALPHA_J2000</th>\n",
       "      <th>DELTA_J2000</th>\n",
       "      <th>V</th>\n",
       "    </tr>\n",
       "  </thead>\n",
       "  <tbody>\n",
       "    <tr>\n",
       "      <th>17896</th>\n",
       "      <td>-8.2875</td>\n",
       "      <td>2250.5261</td>\n",
       "      <td>2079.8438</td>\n",
       "      <td>301.562542</td>\n",
       "      <td>44.455770</td>\n",
       "      <td>0.000000</td>\n",
       "    </tr>\n",
       "    <tr>\n",
       "      <th>17676</th>\n",
       "      <td>-8.9167</td>\n",
       "      <td>1898.4940</td>\n",
       "      <td>2051.8433</td>\n",
       "      <td>301.439469</td>\n",
       "      <td>43.449368</td>\n",
       "      <td>1.994443</td>\n",
       "    </tr>\n",
       "    <tr>\n",
       "      <th>15631</th>\n",
       "      <td>-9.9713</td>\n",
       "      <td>2568.4910</td>\n",
       "      <td>1823.8293</td>\n",
       "      <td>300.531128</td>\n",
       "      <td>45.368050</td>\n",
       "      <td>2.054120</td>\n",
       "    </tr>\n",
       "    <tr>\n",
       "      <th>17816</th>\n",
       "      <td>-8.5662</td>\n",
       "      <td>2242.5229</td>\n",
       "      <td>2071.8047</td>\n",
       "      <td>301.530026</td>\n",
       "      <td>44.433069</td>\n",
       "      <td>2.153976</td>\n",
       "    </tr>\n",
       "    <tr>\n",
       "      <th>18067</th>\n",
       "      <td>-9.6280</td>\n",
       "      <td>3354.5483</td>\n",
       "      <td>2094.0325</td>\n",
       "      <td>301.665753</td>\n",
       "      <td>47.614703</td>\n",
       "      <td>2.228250</td>\n",
       "    </tr>\n",
       "  </tbody>\n",
       "</table>\n",
       "</div>"
      ],
      "text/plain": [
       "       MAG_BEST          X          Y  ALPHA_J2000  DELTA_J2000         V\n",
       "17896   -8.2875  2250.5261  2079.8438   301.562542    44.455770  0.000000\n",
       "17676   -8.9167  1898.4940  2051.8433   301.439469    43.449368  1.994443\n",
       "15631   -9.9713  2568.4910  1823.8293   300.531128    45.368050  2.054120\n",
       "17816   -8.5662  2242.5229  2071.8047   301.530026    44.433069  2.153976\n",
       "18067   -9.6280  3354.5483  2094.0325   301.665753    47.614703  2.228250"
      ]
     },
     "execution_count": 98,
     "metadata": {},
     "output_type": "execute_result"
    }
   ],
   "source": [
    "# Display the top five matches\n",
    "ps[0:5]"
   ]
  },
  {
   "cell_type": "code",
   "execution_count": 99,
   "metadata": {
    "collapsed": false
   },
   "outputs": [
    {
     "data": {
      "image/png": "[encoded data removed]",
      "text/plain": [
       "<matplotlib.figure.Figure at 0x7f00ec3524a8>"
      ]
     },
     "metadata": {},
     "output_type": "display_data"
    }
   ],
   "source": [
    "# Best comparisons\n",
    "utils.compare_psc(normal_cube[ps.index[0:5]], w=10, h=10)"
   ]
  },
  {
   "cell_type": "code",
   "execution_count": 100,
   "metadata": {
    "collapsed": false
   },
   "outputs": [
    {
     "data": {
      "image/png": "[encoded data removed]",
      "text/plain": [
       "<matplotlib.figure.Figure at 0x7f007625f898>"
      ]
     },
     "metadata": {},
     "output_type": "display_data"
    }
   ],
   "source": [
    "# Worst comparisons\n",
    "utils.compare_psc(normal_cube[ps.index[-5:]], w=10, h=10)"
   ]
  },
  {
   "cell_type": "markdown",
   "metadata": {},
   "source": [
    "##### Get aperture photometry"
   ]
  },
  {
   "cell_type": "markdown",
   "metadata": {},
   "source": [
    "Show the first five frames for the first five best matches. This is a co-moving stamp centered around the particular point source and is used to obtain the photometry for the point source."
   ]
  },
  {
   "cell_type": "code",
   "execution_count": null,
   "metadata": {
    "collapsed": false
   },
   "outputs": [],
   "source": [
    "utils.show_aperture_stamps(seq_files, ps)"
   ]
  },
  {
   "cell_type": "markdown",
   "metadata": {},
   "source": [
    "### RefPSF\n",
    "\n",
    "Construct an ideal reference PSF from the combination of the reference stamps.\n",
    "\n",
    "**_NOTE: Under Construction Below._**"
   ]
  },
  {
   "cell_type": "markdown",
   "metadata": {},
   "source": [
    "Here we are looping through each file and constructing a postage stamp around the point source in order to get the aperture flux for the source and the reference. The postage stamp and aperture corresponds to that displayed above, with a 6-square pixel aperture and a 10-square pixel overall stamp size. \n",
    "\n",
    "The stamp is split into individual color channels and for each color channel the background median is obtained via `astropy`'s `sigma_clipped_stats` function."
   ]
  },
  {
   "cell_type": "code",
   "execution_count": 117,
   "metadata": {
    "collapsed": true
   },
   "outputs": [],
   "source": [
    "num_refs = 50\n",
    "num_frames = 43\n",
    "frame_num = 0"
   ]
  },
  {
   "cell_type": "markdown",
   "metadata": {},
   "source": [
    "### Find coefficients"
   ]
  },
  {
   "cell_type": "code",
   "execution_count": 118,
   "metadata": {
    "collapsed": false
   },
   "outputs": [
    {
     "data": {
      "text/plain": [
       "(50, 43, 100)"
      ]
     },
     "execution_count": 118,
     "metadata": {},
     "output_type": "execute_result"
    }
   ],
   "source": [
    "# Get the normalized reference stars\n",
    "refs = normal_cube[ps[1:(num_refs+1)].index]\n",
    "refs.shape"
   ]
  },
  {
   "cell_type": "code",
   "execution_count": 152,
   "metadata": {
    "collapsed": false
   },
   "outputs": [
    {
     "data": {
      "text/plain": [
       "(50, 100)"
      ]
     },
     "execution_count": 152,
     "metadata": {},
     "output_type": "execute_result"
    }
   ],
   "source": [
    "refs.mean(1).shape"
   ]
  },
  {
   "cell_type": "code",
   "execution_count": 165,
   "metadata": {
    "collapsed": false
   },
   "outputs": [
    {
     "data": {
      "text/plain": [
       "array([[ -3.36360579e-04,  -1.42953246e-02,  -7.39993273e-03,\n",
       "         -1.09317188e-02,  -6.72721157e-03,  -1.66498486e-02,\n",
       "         -4.37268752e-03,  -3.53178607e-03,   3.36360579e-03,\n",
       "         -5.21358897e-03],\n",
       "       [ -2.37134208e-02,  -4.03632694e-03,  -1.68180289e-04,\n",
       "         -2.69088463e-03,  -1.29498823e-02,  -2.69088463e-03,\n",
       "         -1.51362260e-03,  -5.71812984e-03,  -6.22267070e-03,\n",
       "         -6.05449041e-03],\n",
       "       [ -5.38176926e-03,  -9.58627649e-03,   1.34544231e-03,\n",
       "          5.21358897e-03,   7.39993273e-03,   5.97040027e-02,\n",
       "          8.07265388e-03,   2.67406660e-02,  -6.72721157e-04,\n",
       "         -7.90447360e-03],\n",
       "       [ -1.19408005e-02,  -1.00908174e-03,  -5.88631012e-03,\n",
       "          8.74537504e-03,   5.29767911e-02,   1.11671712e-01,\n",
       "          1.57584931e-01,   4.27177935e-02,   1.56407669e-02,\n",
       "          1.68180289e-03],\n",
       "       [  0.00000000e+00,  -1.26135217e-02,   5.71812984e-03,\n",
       "          2.20316179e-02,   2.08543559e-02,   2.42347797e-01,\n",
       "          1.26471578e-01,   6.60948537e-02,   2.01816347e-03,\n",
       "          1.51362260e-03],\n",
       "       [ -1.79952910e-02,   0.00000000e+00,  -2.85906492e-03,\n",
       "          1.00908174e-02,   3.24587958e-02,   6.15539859e-02,\n",
       "          5.93676421e-02,   4.33905146e-02,   2.50588631e-02,\n",
       "          2.35452405e-03],\n",
       "       [ -1.10998991e-02,  -1.69862092e-02,  -2.69088463e-03,\n",
       "          3.19542550e-03,   1.47998655e-02,   2.60679448e-02,\n",
       "          1.00908174e-02,   2.67406660e-02,   1.00908174e-03,\n",
       "          7.56811302e-03],\n",
       "       [ -1.12680794e-02,  -1.27817020e-02,   3.86814665e-03,\n",
       "          5.71812984e-03,   1.36226034e-02,   4.37268752e-03,\n",
       "          7.23175244e-03,   2.69088463e-03,  -2.52270434e-03,\n",
       "         -2.35452405e-03],\n",
       "       [ -5.71812984e-03,  -1.73225698e-02,  -3.69996636e-03,\n",
       "          1.84998318e-03,  -5.04540868e-03,   2.85906492e-03,\n",
       "          0.00000000e+00,  -1.02589976e-02,  -1.24453414e-02,\n",
       "          1.17726202e-03],\n",
       "       [ -1.26135217e-02,  -5.71812984e-03,  -1.19408005e-02,\n",
       "          1.07635385e-02,   6.55903128e-03,  -1.34544231e-03,\n",
       "         -9.24991591e-03,  -6.39085099e-03,   1.68180289e-04,\n",
       "         -2.01816347e-03]])"
      ]
     },
     "execution_count": 165,
     "metadata": {},
     "output_type": "execute_result"
    }
   ],
   "source": [
    "refs[0, 0].reshape(10, 10)"
   ]
  },
  {
   "cell_type": "code",
   "execution_count": 119,
   "metadata": {
    "collapsed": false
   },
   "outputs": [
    {
     "data": {
      "text/plain": [
       "<matplotlib.text.Text at 0x7f00ebd3a908>"
      ]
     },
     "execution_count": 119,
     "metadata": {},
     "output_type": "execute_result"
    },
    {
     "data": {
      "image/png": "[encoded data removed]",
      "text/plain": [
       "<matplotlib.figure.Figure at 0x7f00ebd0c320>"
      ]
     },
     "metadata": {},
     "output_type": "display_data"
    }
   ],
   "source": [
    "plt.imshow(refs[1, frame_num].reshape(10, 10), cmap='viridis')\n",
    "plt.colorbar()\n",
    "plt.title('Normalized Ref {}'.format(frame_num))"
   ]
  },
  {
   "cell_type": "code",
   "execution_count": 120,
   "metadata": {
    "collapsed": false
   },
   "outputs": [
    {
     "data": {
      "text/plain": [
       "(43, 100)"
      ]
     },
     "execution_count": 120,
     "metadata": {},
     "output_type": "execute_result"
    }
   ],
   "source": [
    "# Get normalized target\n",
    "tar = normal_cube[ps.iloc[0].name]\n",
    "tar.shape"
   ]
  },
  {
   "cell_type": "code",
   "execution_count": 121,
   "metadata": {
    "collapsed": false
   },
   "outputs": [
    {
     "data": {
      "text/plain": [
       "<matplotlib.text.Text at 0x7f00ebc755f8>"
      ]
     },
     "execution_count": 121,
     "metadata": {},
     "output_type": "execute_result"
    },
    {
     "data": {
      "image/png": "[encoded data removed]",
      "text/plain": [
       "<matplotlib.figure.Figure at 0x7f00ebc46d30>"
      ]
     },
     "metadata": {},
     "output_type": "display_data"
    }
   ],
   "source": [
    "plt.imshow(tar[frame_num].reshape(10, 10), cmap='viridis')\n",
    "plt.colorbar()\n",
    "plt.title('Normalized Target {}'.format(frame_num))"
   ]
  },
  {
   "cell_type": "code",
   "execution_count": 122,
   "metadata": {
    "collapsed": false
   },
   "outputs": [
    {
     "data": {
      "text/plain": [
       "(100,)"
      ]
     },
     "execution_count": 122,
     "metadata": {},
     "output_type": "execute_result"
    }
   ],
   "source": [
    "a0 = tar[frame_num] / refs[1, frame_num]\n",
    "a0.shape"
   ]
  },
  {
   "cell_type": "code",
   "execution_count": 123,
   "metadata": {
    "collapsed": false
   },
   "outputs": [
    {
     "data": {
      "text/plain": [
       "<matplotlib.text.Text at 0x7f00ebbace10>"
      ]
     },
     "execution_count": 123,
     "metadata": {},
     "output_type": "execute_result"
    },
    {
     "data": {
      "image/png": "[encoded data removed]",
      "text/plain": [
       "<matplotlib.figure.Figure at 0x7f00ebc65240>"
      ]
     },
     "metadata": {},
     "output_type": "display_data"
    }
   ],
   "source": [
    "plt.imshow((refs[1, frame_num] * a0).reshape(10, 10), cmap='viridis')\n",
    "plt.colorbar()\n",
    "plt.title('Normalized Ref {}'.format(frame_num))"
   ]
  },
  {
   "cell_type": "code",
   "execution_count": 108,
   "metadata": {
    "collapsed": true
   },
   "outputs": [],
   "source": [
    "def get_ref_psf(x, B):\n",
    "    # Build the matrix\n",
    "    A = np.vstack([x]).T\n",
    "       \n",
    "    # Solve the least-squares\n",
    "    p = np.linalg.lstsq(A, B)[0]\n",
    "        \n",
    "    return p"
   ]
  },
  {
   "cell_type": "code",
   "execution_count": 69,
   "metadata": {
    "collapsed": false
   },
   "outputs": [
    {
     "data": {
      "text/plain": [
       "array([ 0.16810049,  0.19129506,  0.13048446,  0.04544146,  0.00245315,\n",
       "        0.09140207, -0.00815176,  0.07232751,  0.18248325,  0.00077592,\n",
       "        0.07898107,  0.13667872,  0.01675405,  0.02201486, -0.13896557,\n",
       "        0.01334088, -0.00402502,  0.01757142,  0.07445329,  0.02182003,\n",
       "        0.14515156,  0.08805422, -0.06589638,  0.0824682 , -0.07150244,\n",
       "        0.04547072,  0.00670601,  0.12528397, -0.01708475, -0.05354384,\n",
       "       -0.09706572,  0.0582803 ,  0.04987069, -0.08015944,  0.01274389,\n",
       "        0.04040167,  0.04050855, -0.24400965, -0.15850255,  0.00237558,\n",
       "       -0.0248213 , -0.08014069,  0.17412783, -0.00883246,  0.07693287,\n",
       "       -0.05906296,  0.04095394,  0.06445192, -0.04795668, -0.11641181])"
      ]
     },
     "execution_count": 69,
     "metadata": {},
     "output_type": "execute_result"
    }
   ],
   "source": [
    "# Find the coefficients that align the reference with the target\n",
    "coeff = get_ref_psf(refs.reshape(num_refs, num_frames * 100), tar.flatten())\n",
    "coeff"
   ]
  },
  {
   "cell_type": "markdown",
   "metadata": {},
   "source": [
    "### Full Target"
   ]
  },
  {
   "cell_type": "code",
   "execution_count": 109,
   "metadata": {
    "collapsed": false
   },
   "outputs": [],
   "source": [
    "# Get the full stamps\n",
    "# full_cube = utils.get_cube(seq_files[0:num_frames], point_sources, radius=5)"
   ]
  },
  {
   "cell_type": "code",
   "execution_count": 124,
   "metadata": {
    "collapsed": false
   },
   "outputs": [
    {
     "data": {
      "text/plain": [
       "(43, 100)"
      ]
     },
     "execution_count": 124,
     "metadata": {},
     "output_type": "execute_result"
    }
   ],
   "source": [
    "# Full target\n",
    "tar_t = full_cube[ps.iloc[0].name]\n",
    "tar_t.shape"
   ]
  },
  {
   "cell_type": "code",
   "execution_count": 125,
   "metadata": {
    "collapsed": false
   },
   "outputs": [
    {
     "data": {
      "text/plain": [
       "<matplotlib.text.Text at 0x7f00eba26518>"
      ]
     },
     "execution_count": 125,
     "metadata": {},
     "output_type": "execute_result"
    },
    {
     "data": {
      "image/png": "[encoded data removed]",
      "text/plain": [
       "<matplotlib.figure.Figure at 0x7f00eba7c7f0>"
      ]
     },
     "metadata": {},
     "output_type": "display_data"
    }
   ],
   "source": [
    "# Show target\n",
    "sns.set_style('dark')\n",
    "plt.imshow(tar_t[frame_num].reshape(10, 10), cmap='viridis')\n",
    "plt.colorbar()\n",
    "plt.title('Full Target')"
   ]
  },
  {
   "cell_type": "markdown",
   "metadata": {},
   "source": [
    "### Construct RefPSF"
   ]
  },
  {
   "cell_type": "code",
   "execution_count": 126,
   "metadata": {
    "collapsed": false
   },
   "outputs": [
    {
     "data": {
      "text/plain": [
       "(50, 43, 100)"
      ]
     },
     "execution_count": 126,
     "metadata": {},
     "output_type": "execute_result"
    }
   ],
   "source": [
    "# Get the full reference stars\n",
    "b = full_cube[ps[1:(num_refs+1)].index] #.reshape(num_refs, num_frames * 100)\n",
    "b.shape"
   ]
  },
  {
   "cell_type": "code",
   "execution_count": 127,
   "metadata": {
    "collapsed": false
   },
   "outputs": [],
   "source": [
    "refpsf = b[1, frame_num, :] * a0"
   ]
  },
  {
   "cell_type": "code",
   "execution_count": null,
   "metadata": {
    "collapsed": false
   },
   "outputs": [],
   "source": [
    "# Multiple the references by the coefficients\n",
    "refpsf = coeff.dot(b).reshape(num_frames,100)"
   ]
  },
  {
   "cell_type": "code",
   "execution_count": 128,
   "metadata": {
    "collapsed": false
   },
   "outputs": [
    {
     "data": {
      "text/plain": [
       "<matplotlib.text.Text at 0x7f00ec473ac8>"
      ]
     },
     "execution_count": 128,
     "metadata": {},
     "output_type": "execute_result"
    },
    {
     "data": {
      "image/png": "[encoded data removed]",
      "text/plain": [
       "<matplotlib.figure.Figure at 0x7f00eb999cc0>"
      ]
     },
     "metadata": {},
     "output_type": "display_data"
    }
   ],
   "source": [
    "# Show the constructed PSF\n",
    "sns.set_style('dark')\n",
    "# plt.imshow(refpsf.reshape(num_frames, 10, 10)[frame_num], cmap='viridis')\n",
    "# plt.imshow(refpsf[frame_num].reshape(10, 10), cmap='viridis')\n",
    "plt.imshow(refpsf.reshape(10, 10), cmap='viridis')\n",
    "plt.colorbar()\n",
    "plt.title('Constructed RefPSF')"
   ]
  },
  {
   "cell_type": "markdown",
   "metadata": {},
   "source": [
    "### Show Residuals"
   ]
  },
  {
   "cell_type": "code",
   "execution_count": 129,
   "metadata": {
    "collapsed": false
   },
   "outputs": [
    {
     "data": {
      "text/plain": [
       "<matplotlib.text.Text at 0x7f0076252ba8>"
      ]
     },
     "execution_count": 129,
     "metadata": {},
     "output_type": "execute_result"
    },
    {
     "data": {
      "image/png": "[encoded data removed]",
      "text/plain": [
       "<matplotlib.figure.Figure at 0x7f00ebabbcf8>"
      ]
     },
     "metadata": {},
     "output_type": "display_data"
    }
   ],
   "source": [
    "# Get the residuals for inspection\n",
    "res = tar_t - refpsf\n",
    "\n",
    "sns.set_style('dark')\n",
    "plt.imshow(res[frame_num].reshape(10, 10), cmap='viridis')\n",
    "plt.colorbar()\n",
    "plt.title('Target - RefPSF Residual')"
   ]
  },
  {
   "cell_type": "markdown",
   "metadata": {},
   "source": [
    "### RRC\n",
    "\n",
    "Here we perform the Remove, Replace, and Compare step. Since we want to compare each image to the other images, we consider the set of images $A$ that we are testing to consist of only one image at a time while the set of comparison images are all other frames in the `observation`.\n",
    "\n",
    "Then an estimate of the transit depth $a_j$ may be obtained for frame $j$ by:\n",
    "\n",
    "$$\n",
    "(1+a_j) = \n",
    "    \\frac{\n",
    "        \\displaystyle{\n",
    "                \\sum_{u=-w}^{w}{ \n",
    "                    \\sum_{v=-w}^{w}{\n",
    "                        A_j(x_t + u, y_t + v)\n",
    "                }}\n",
    "        } \n",
    "    }{\n",
    "        \\displaystyle{\n",
    "                \\sum_{u=-w}^{w}{ \n",
    "                    \\sum_{v=-w}^{w}{\n",
    "                        \\mathrm{RefPSF}_j(u, v)\n",
    "                }}\n",
    "        } \n",
    "    }\n",
    "$$\n",
    "\n",
    "$$(3)$$\n",
    "\n",
    "This equation may be improved by optimal weighting of pixel values."
   ]
  },
  {
   "cell_type": "code",
   "execution_count": 80,
   "metadata": {
    "collapsed": false
   },
   "outputs": [],
   "source": [
    "a = tar_t / refpsf"
   ]
  },
  {
   "cell_type": "code",
   "execution_count": 81,
   "metadata": {
    "collapsed": false
   },
   "outputs": [],
   "source": [
    "curve = [a[i].sum() / 100 for i in range(len(a))]"
   ]
  },
  {
   "cell_type": "code",
   "execution_count": 83,
   "metadata": {
    "collapsed": false
   },
   "outputs": [
    {
     "data": {
      "text/plain": [
       "<matplotlib.lines.Line2D at 0x7f00ec0c6d68>"
      ]
     },
     "execution_count": 83,
     "metadata": {},
     "output_type": "execute_result"
    },
    {
     "data": {
      "image/png": "[encoded data removed]",
      "text/plain": [
       "<matplotlib.figure.Figure at 0x7f00ec329080>"
      ]
     },
     "metadata": {},
     "output_type": "display_data"
    }
   ],
   "source": [
    "sns.set_style('darkgrid')\n",
    "plt.figure(figsize=(15, 9))\n",
    "plt.plot(curve)\n",
    "plt.ylabel('Relative Flux')\n",
    "plt.xlabel('Frame')\n",
    "plt.title('Target vs RefPSF - {} references'.format(num_refs))\n",
    "# plt.ylim(.95, 1.05)\n",
    "plt.axhline(1.0, ls='--', c='k', alpha=0.25)"
   ]
  },
  {
   "cell_type": "code",
   "execution_count": null,
   "metadata": {
    "collapsed": true
   },
   "outputs": [],
   "source": []
  }
 ],
 "metadata": {
  "anaconda-cloud": {},
  "kernelspec": {
   "display_name": "Python [conda root]",
   "language": "python",
   "name": "conda-root-py"
  },
  "language_info": {
   "codemirror_mode": {
    "name": "ipython",
    "version": 3
   },
   "file_extension": ".py",
   "mimetype": "text/x-python",
   "name": "python",
   "nbconvert_exporter": "python",
   "pygments_lexer": "ipython3",
   "version": "3.5.2"
  }
 },
 "nbformat": 4,
 "nbformat_minor": 0
}
