{
 "cells": [
  {
   "cell_type": "code",
   "execution_count": 1,
   "metadata": {},
   "outputs": [],
   "source": [
    "from matplotlib import pyplot as plt\n",
    "# from astropy.utils.data import download_file\n",
    "# from astropy.time import Time, TimeDelta\n",
    "from astropy import units as u\n",
    "from astropy.coordinates import SkyCoord\n",
    "from astropy.time import Time, TimeDelta\n",
    "# import xml.etree.ElementTree as ET, gzip, io\n",
    "\n",
    "from dateutil.parser import parse as date_parse\n",
    "import numpy as np\n",
    "import pandas as pd\n",
    "\n",
    "from collections import namedtuple\n",
    "from glob import glob\n",
    "from astropy.io import fits\n",
    "from astropy.table import Table\n",
    "\n",
    "from tqdm import tqdm_notebook\n",
    "\n",
    "from piaa import exoplanets\n",
    "import exodata"
   ]
  },
  {
   "cell_type": "code",
   "execution_count": 2,
   "metadata": {},
   "outputs": [],
   "source": [
    "#!gsutil ls gs://panoptes-survey/PAN006/**/**/**/*.fz > /var/panoptes/pan006.txt"
   ]
  },
  {
   "cell_type": "code",
   "execution_count": 3,
   "metadata": {},
   "outputs": [],
   "source": [
    "# Load our list of stored images\n",
    "fn = '/var/panoptes/pan006.txt'\n",
    "\n",
    "fits_fn = !cat $fn | grep -v 'pointing'"
   ]
  },
  {
   "cell_type": "code",
   "execution_count": 4,
   "metadata": {},
   "outputs": [
    {
     "data": {
      "application/vnd.jupyter.widget-view+json": {
       "model_id": "42eed987faad44f0a8c24405208b2907",
       "version_major": 2,
       "version_minor": 0
      },
      "text/plain": [
       "HBox(children=(IntProgress(value=0, max=4520), HTML(value='')))"
      ]
     },
     "metadata": {},
     "output_type": "display_data"
    },
    {
     "name": "stdout",
     "output_type": "stream",
     "text": [
      "'No matches found for key 55CncE'\n",
      "'No matches found for key Epic211089792'\n",
      "list index out of range\n",
      "'No matches found for key Kic8462852'\n",
      "\n"
     ]
    }
   ],
   "source": [
    "transits = dict()\n",
    "errors = dict()\n",
    "\n",
    "for fn in tqdm_notebook(fits_fn):\n",
    "    if 'pointing' in fn:\n",
    "        continue \n",
    "    \n",
    "    try:\n",
    "        _, _, _, unit_id, field, cam_id, seq_id, img_id = fn.split('/')\n",
    "    except ValueError:\n",
    "        continue \n",
    "        \n",
    "    if seq_id in transits:\n",
    "        continue\n",
    "        \n",
    "    # Get the time from the image\n",
    "    img_id = img_id.split('.')[0]\n",
    "    try:\n",
    "        t0 = Time(date_parse(img_id), format='datetime')\n",
    "    except Exception as e:\n",
    "        if str(e) not in errors:\n",
    "            print(img_id, e)\n",
    "            errors[str(e)] = True\n",
    "        continue\n",
    "        \n",
    "    # Get exoplanet info\n",
    "    try:\n",
    "        planet = exoplanets.Exoplanet(field)\n",
    "    except KeyError as e:\n",
    "        if str(e) not in errors:\n",
    "            print(e)\n",
    "            errors[str(e)] = True        \n",
    "        continue\n",
    "        \n",
    "    try:\n",
    "        if planet.transit_duration.value == 0:\n",
    "            k = '{}_duration'.format(planet.name)\n",
    "            if k not in errors:\n",
    "                print(\"No duration for\", planet.name)\n",
    "                errors[k] = True\n",
    "            continue\n",
    "\n",
    "        if planet.transit_midpoint.value == 0:\n",
    "            k = '{}_midpoint'.format(planet.name)\n",
    "            if k not in errors:\n",
    "                print(\"No midpoint for\", planet.name)\n",
    "                errors[k] = True\n",
    "            continue        \n",
    "\n",
    "        if planet.period.value == 0:\n",
    "            k = '{}_period'.format(planet.name)\n",
    "            if k not in errors:\n",
    "                print(\"No period for\", planet.name)\n",
    "                errors[k] = True\n",
    "            continue                \n",
    "    except Exception as e:\n",
    "        if str(e) not in errors:\n",
    "            print(e)\n",
    "            errors[str(e)] = True                \n",
    "    \n",
    "    # Determine if in transit\n",
    "    try:\n",
    "        in_t = planet.in_transit(t0, with_times=True)\n",
    "    except Exception as e:\n",
    "        if str(e) not in errors:\n",
    "            print(e)\n",
    "            errors[str(e)] = True        \n",
    "        continue    \n",
    "\n",
    "    if in_t[0]:\n",
    "        transits[seq_id] = {'transit': in_t[1], 'planet': planet}\n"
   ]
  },
  {
   "cell_type": "code",
   "execution_count": null,
   "metadata": {},
   "outputs": [
    {
     "name": "stdout",
     "output_type": "stream",
     "text": [
      "Transit(ingress=<Time object: scale='utc' format='jd' value=2458152.7223013034>, midpoint=<Time object: scale='utc' format='jd' value=2458152.7710013036>, egress=<Time object: scale='utc' format='jd' value=2458152.8197013037>)\n",
      "-0.015171300732212512 0.015142483131656104\n",
      "\n",
      "Transit(ingress=<Time object: scale='utc' format='jd' value=2458140.5442152782>, midpoint=<Time object: scale='utc' format='jd' value=2458140.588565278>, egress=<Time object: scale='utc' format='jd' value=2458140.632915278>)\n",
      "-0.01579190279455911 0.015767194811302294\n",
      "\n",
      "Transit(ingress=<Time object: scale='utc' format='jd' value=2458162.7591652777>, midpoint=<Time object: scale='utc' format='jd' value=2458162.805315278>, egress=<Time object: scale='utc' format='jd' value=2458162.851465278>)\n",
      "-0.03479468294962218 0.034742364652634534\n",
      "\n",
      "Transit(ingress=<Time object: scale='utc' format='jd' value=2458162.7591652777>, midpoint=<Time object: scale='utc' format='jd' value=2458162.805315278>, egress=<Time object: scale='utc' format='jd' value=2458162.851465278>)\n",
      "-0.03479468294962218 0.034742364652634534\n",
      "\n",
      "Transit(ingress=<Time object: scale='utc' format='jd' value=2458260.494691278>, midpoint=<Time object: scale='utc' format='jd' value=2458260.543241278>, egress=<Time object: scale='utc' format='jd' value=2458260.5917912778>)\n",
      "-0.017367590277585054 0.017342765883264433\n",
      "\n"
     ]
    }
   ],
   "source": [
    "# Three subplots sharing both x/y axes\n",
    "\n",
    "f, axes = plt.subplots(len(transits), sharey=True)\n",
    "f.set_size_inches(12, 2 * len(transits))\n",
    "\n",
    "for i, seq_id in enumerate(transits.keys()):\n",
    "\n",
    "    try:\n",
    "        ax = axes[i]\n",
    "    except Exception:\n",
    "        ax = axes\n",
    "    \n",
    "    t = transits[seq_id]['transit']\n",
    "    planet = transits[seq_id]['planet']\n",
    "    image_times = sorted(set(([x.split('/')[7].split('.')[0] for x in fits_fn if seq_id in x])))\n",
    "                                \n",
    "    phases = {planet.get_phase(Time(date_parse(t))):Time(date_parse(t)) for t in image_times}\n",
    "    \n",
    "    ax.scatter(list(phases.keys()), [1 for x in range(len(phases))], color='b', marker='.', label='Observation')\n",
    "    \n",
    "    print(t)\n",
    "    print(planet.get_phase(t.ingress), planet.get_phase(t.egress))\n",
    "    print()\n",
    "    ax.axvline(planet.get_phase(t.ingress), 0, color='r', ls='--', alpha=0.5, label='ingress')\n",
    "    ax.axvline(planet.get_phase(t.egress), 0, color='r', ls='--', alpha=0.5, label='egress')\n",
    "        \n",
    "    ax.legend()\n",
    "        \n",
    "    ax.set_title(\"{} {}\".format(planet.info['pl_hostname'], seq_id))\n",
    "    ax.set_xlim(-0.5, 0.5)\n",
    "    ax.set_ylim(0.5, 1.5)\n",
    "    ax.get_yaxis().set_ticks([])\n",
    "    \n",
    "    f.subplots_adjust(hspace=0)\n",
    "    \n",
    "f.savefig('/var/panoptes/pan006_matches.png')"
   ]
  },
  {
   "cell_type": "code",
   "execution_count": null,
   "metadata": {},
   "outputs": [],
   "source": []
  }
 ],
 "metadata": {
  "kernelspec": {
   "display_name": "Python 3",
   "language": "python",
   "name": "python3"
  },
  "language_info": {
   "codemirror_mode": {
    "name": "ipython",
    "version": 3
   },
   "file_extension": ".py",
   "mimetype": "text/x-python",
   "name": "python",
   "nbconvert_exporter": "python",
   "pygments_lexer": "ipython3",
   "version": "3.6.5"
  }
 },
 "nbformat": 4,
 "nbformat_minor": 2
}
