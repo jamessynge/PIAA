{
 "cells": [
  {
   "cell_type": "code",
   "execution_count": 1,
   "metadata": {},
   "outputs": [],
   "source": [
    "from matplotlib import pyplot as plt\n",
    "# from astropy.utils.data import download_file\n",
    "# from astropy.time import Time, TimeDelta\n",
    "from astropy import units as u\n",
    "from astropy.coordinates import SkyCoord\n",
    "from astropy.time import Time, TimeDelta\n",
    "# import xml.etree.ElementTree as ET, gzip, io\n",
    "\n",
    "from dateutil.parser import parse as date_parse\n",
    "import numpy as np\n",
    "\n",
    "from collections import namedtuple\n",
    "from glob import glob\n",
    "from astropy.io import fits\n",
    "\n",
    "from tqdm import tqdm_notebook\n",
    "\n",
    "# from piaa import exoplanets\n",
    "import exodata"
   ]
  },
  {
   "cell_type": "code",
   "execution_count": 2,
   "metadata": {},
   "outputs": [],
   "source": [
    "Transit = namedtuple('Transit', ['ingress', 'midpoint', 'egress'])"
   ]
  },
  {
   "cell_type": "code",
   "execution_count": 3,
   "metadata": {},
   "outputs": [],
   "source": [
    "# Load our list of stored images\n",
    "fn = '/var/panoptes/wasp43.txt'\n",
    "\n",
    "fits_fn = !cat $fn | grep -v 'pointing' | grep 'Wasp43'"
   ]
  },
  {
   "cell_type": "code",
   "execution_count": 4,
   "metadata": {},
   "outputs": [
    {
     "name": "stderr",
     "output_type": "stream",
     "text": [
      "WARNING: IllegalSecondWarning: 'second' was found  to be '60.0', which is not in range [0,60). Treating as 0 sec, +1 min [astropy.coordinates.angle_utilities]\n"
     ]
    }
   ],
   "source": [
    "# Load the exoplanet catalogue\n",
    "exocat = exodata.load_db_from_url()"
   ]
  },
  {
   "cell_type": "code",
   "execution_count": 5,
   "metadata": {},
   "outputs": [],
   "source": [
    "# Get the names of the fields we've observed\n",
    "observed_planets = set([f.split('/')[4] for f in fits_fn])"
   ]
  },
  {
   "cell_type": "code",
   "execution_count": 6,
   "metadata": {},
   "outputs": [],
   "source": [
    "# Search observed fields for matching planet in catalogue\n",
    "transit_planets = {p:exocat.searchPlanet(p) for p in observed_planets}"
   ]
  },
  {
   "cell_type": "code",
   "execution_count": 7,
   "metadata": {},
   "outputs": [],
   "source": [
    "def in_transit(planet, t1, with_times=False):\n",
    "    if isinstance(t1, str):\n",
    "        t1 = Time(t1)\n",
    "\n",
    "    transittime = Time(planet.transittime, format='jd')\n",
    "    transit_duration = planet.calcTransitDuration(circular=True).item() * u.minute\n",
    "    planet_period = planet.calcPeriod().item() * u.day\n",
    "    period_delta = TimeDelta(planet_period.to(u.s), format='sec')\n",
    "\n",
    "    num_periods = int((t1 - transittime).sec // period_delta.sec)\n",
    "    in_transit = False\n",
    "\n",
    "    for n in range(num_periods, num_periods + 2):\n",
    "        midpoint = transittime + (n * period_delta)\n",
    "        ingress = midpoint - (transit_duration / 2)\n",
    "        egress = midpoint + (transit_duration / 2)\n",
    "\n",
    "        in_transit = t1 >= ingress and t1 <= egress\n",
    "\n",
    "        if in_transit:\n",
    "            break\n",
    "\n",
    "    if with_times:\n",
    "        return (in_transit, Transit(ingress, midpoint, egress))\n",
    "    else:\n",
    "        return in_transit"
   ]
  },
  {
   "cell_type": "code",
   "execution_count": 8,
   "metadata": {},
   "outputs": [
    {
     "data": {
      "application/vnd.jupyter.widget-view+json": {
       "model_id": "51af308d040641e5b90b251d2b2c785b",
       "version_major": 2,
       "version_minor": 0
      },
      "text/plain": [
       "HBox(children=(IntProgress(value=0, max=1298), HTML(value='')))"
      ]
     },
     "metadata": {},
     "output_type": "display_data"
    },
    {
     "name": "stdout",
     "output_type": "stream",
     "text": [
      "\n"
     ]
    }
   ],
   "source": [
    "transits = dict()\n",
    "for fn in tqdm_notebook(fits_fn):\n",
    "    if 'pointing' in fn:\n",
    "        continue \n",
    "    \n",
    "    try:\n",
    "        _, _, _, unit_id, field, cam_id, seq_id, img_id = fn.split('/')\n",
    "    except ValueError:\n",
    "        continue \n",
    "        \n",
    "    img_id = img_id.split('.')[0]\n",
    "    \n",
    "    if seq_id in transits:\n",
    "        continue\n",
    "    \n",
    "    try:\n",
    "        planet = transit_planets[field]\n",
    "    except KeyError:\n",
    "        continue\n",
    "        \n",
    "    try:\n",
    "        tt0 = Time(date_parse(img_id), format='datetime')\n",
    "    except Exception as e:\n",
    "#         print(img_id, e)\n",
    "        continue\n",
    "    \n",
    "    try:\n",
    "        in_t = in_transit(planet, tt0, with_times=True)\n",
    "    except Exception as e:\n",
    "        continue\n",
    "#         print(e)\n",
    "#         print(planet, tt0)\n",
    "    else:\n",
    "        if in_t[0]:\n",
    "            transits[seq_id] = {'transit': in_t[1], 'planet': planet}"
   ]
  },
  {
   "cell_type": "code",
   "execution_count": 9,
   "metadata": {},
   "outputs": [],
   "source": [
    "def get_phase(planet, t):\n",
    "    period = planet.calcPeriod().item()\n",
    "    phase = ((t.mjd - Time(planet.transittime, format='jd').mjd) % period) / period\n",
    "    if phase >= 0.5:\n",
    "        phase -= 1.0\n",
    "        \n",
    "    return phase"
   ]
  },
  {
   "cell_type": "code",
   "execution_count": 13,
   "metadata": {},
   "outputs": [],
   "source": [
    "phase = np.array([(i, get_phase(p, Time(date_parse(fn.split('/')[7].split('.')[0]), format='datetime'))) for i, fn in enumerate(fits_fn)])"
   ]
  },
  {
   "cell_type": "code",
   "execution_count": 14,
   "metadata": {},
   "outputs": [
    {
     "data": {
      "text/plain": [
       "([], <a list of 0 Text yticklabel objects>)"
      ]
     },
     "execution_count": 14,
     "metadata": {},
     "output_type": "execute_result"
    },
    {
     "name": "stderr",
     "output_type": "stream",
     "text": [
      "/home/wtylergee/miniconda3/lib/python3.6/site-packages/matplotlib/figure.py:2267: UserWarning: This figure includes Axes that are not compatible with tight_layout, so results might be incorrect.\n",
      "  warnings.warn(\"This figure includes Axes that are not compatible \"\n"
     ]
    },
    {
     "data": {
      "image/png": "[encoded data removed]",
      "text/plain": [
       "<Figure size 432x288 with 1 Axes>"
      ]
     },
     "metadata": {},
     "output_type": "display_data"
    }
   ],
   "source": [
    "# Three subplots sharing both x/y axes\n",
    "\n",
    "# for i, fn in enumerate(fits_fn):\n",
    "#     image_time = fn.split('/')[7].split('.')[0]\n",
    "    \n",
    "#     date_obs = \n",
    "        \n",
    "#     ax.plot([get_phase(p, t.ingress), 0], [0.5, 0.5], color='r', label='Transit')\n",
    "#     ax.plot([0, get_phase(p, t.egress)], [0.5, 0.5], color='r')\n",
    "#     ax.scatter(get_phase(p, date_obs), 0.6, color='b', label='Observation')\n",
    "\n",
    "plt.scatter(phase[:, 1], np.ones_like(phase[:, 1]))\n",
    "# ax.legend()\n",
    "\n",
    "# ax.set_title(\"{} {} {:.02f} {}\".format(p.name, seq_id, p.calcTransitDepth().item(), p.system.stars[0].magV))\n",
    "plt.xlim(-0.5, 0.5)\n",
    "plt.ylim(0.9, 1.1)\n",
    "plt.yticks([])"
   ]
  },
  {
   "cell_type": "code",
   "execution_count": 12,
   "metadata": {},
   "outputs": [
    {
     "name": "stderr",
     "output_type": "stream",
     "text": [
      "/home/wtylergee/miniconda3/lib/python3.6/site-packages/matplotlib/figure.py:2267: UserWarning: This figure includes Axes that are not compatible with tight_layout, so results might be incorrect.\n",
      "  warnings.warn(\"This figure includes Axes that are not compatible \"\n"
     ]
    },
    {
     "data": {
      "image/png": "[encoded data removed]",
      "text/plain": [
       "<Figure size 864x432 with 3 Axes>"
      ]
     },
     "metadata": {},
     "output_type": "display_data"
    }
   ],
   "source": [
    "# Three subplots sharing both x/y axes\n",
    "\n",
    "f, axes = plt.subplots(len(transits), sharey=True)\n",
    "f.set_size_inches(12, 2 * len(transits))\n",
    "\n",
    "for i, seq_id in enumerate(transits.keys()):\n",
    "    ax = axes[i]\n",
    "    \n",
    "    t = transits[seq_id]['transit']\n",
    "    p = transits[seq_id]['planet']\n",
    "    \n",
    "    image_times = sorted(set(([x.split('/')[7].split('.')[0] for x in fits_fn if seq_id in x])))\n",
    "    \n",
    "    start_obs = Time(date_parse(image_times[0]), format='datetime')\n",
    "    end_obs = Time(date_parse(image_times[-1]), format='datetime')\n",
    "    \n",
    "    if isinstance(p, list):\n",
    "        p = p[0]\n",
    "    \n",
    "    ax.plot([get_phase(p, t.ingress), 0], [0.5, 0.5], color='r', label='Transit')\n",
    "    ax.plot([0, get_phase(p, t.egress)], [0.5, 0.5], color='r')\n",
    "    ax.plot([get_phase(p, start_obs), 0], [0.6, 0.6], color='b', label='Observation')\n",
    "    ax.plot([0, get_phase(p, end_obs)], [0.6, 0.6], color='b')\n",
    "    ax.legend()\n",
    "    \n",
    "    ax.set_title(\"{} {} {:.02f} {}\".format(p.name, seq_id, p.calcTransitDepth().item(), p.system.stars[0].magV))\n",
    "    ax.set_xlim(-0.5, 0.5)\n",
    "    ax.set_ylim(0, 1)\n",
    "    ax.get_yaxis().set_ticks([])\n",
    "\n",
    "    f.subplots_adjust(hspace=0)\n",
    "#     f.autofmt_xdate()\n",
    "    \n",
    "#     plt.setp([a.get_xticklabels() for a in f.axes[:-1]], visible=False)"
   ]
  },
  {
   "cell_type": "code",
   "execution_count": 38,
   "metadata": {},
   "outputs": [
    {
     "data": {
      "text/plain": [
       "['20180116T093353', '20180129T084704', '20180202T092810']"
      ]
     },
     "execution_count": 38,
     "metadata": {},
     "output_type": "execute_result"
    }
   ],
   "source": [
    "list(transits.keys())"
   ]
  },
  {
   "cell_type": "code",
   "execution_count": null,
   "metadata": {},
   "outputs": [],
   "source": []
  }
 ],
 "metadata": {
  "kernelspec": {
   "display_name": "Python 3",
   "language": "python",
   "name": "python3"
  },
  "language_info": {
   "codemirror_mode": {
    "name": "ipython",
    "version": 3
   },
   "file_extension": ".py",
   "mimetype": "text/x-python",
   "name": "python",
   "nbconvert_exporter": "python",
   "pygments_lexer": "ipython3",
   "version": "3.6.5"
  }
 },
 "nbformat": 4,
 "nbformat_minor": 2
}
